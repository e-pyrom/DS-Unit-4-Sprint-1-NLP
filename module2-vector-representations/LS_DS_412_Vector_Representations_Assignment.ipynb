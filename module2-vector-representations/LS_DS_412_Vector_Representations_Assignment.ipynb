{
  "nbformat": 4,
  "nbformat_minor": 0,
  "metadata": {
    "colab": {
      "name": "LS_DS_412_Vector_Representations_Assignment.ipynb",
      "provenance": [],
      "collapsed_sections": [],
      "include_colab_link": true
    },
    "kernel_info": {
      "name": "python3"
    },
    "kernelspec": {
      "display_name": "U4-S1-NLP (Python3)",
      "language": "python",
      "name": "u4-s1-nlp"
    },
    "language_info": {
      "codemirror_mode": {
        "name": "ipython",
        "version": 3
      },
      "file_extension": ".py",
      "mimetype": "text/x-python",
      "name": "python",
      "nbconvert_exporter": "python",
      "pygments_lexer": "ipython3",
      "version": "3.7.6"
    },
    "nteract": {
      "version": "0.14.3"
    }
  },
  "cells": [
    {
      "cell_type": "markdown",
      "metadata": {
        "id": "view-in-github",
        "colab_type": "text"
      },
      "source": [
        "<a href=\"https://colab.research.google.com/github/e-pyrom/DS-Unit-4-Sprint-1-NLP/blob/master/module2-vector-representations/LS_DS_412_Vector_Representations_Assignment.ipynb\" target=\"_parent\"><img src=\"https://colab.research.google.com/assets/colab-badge.svg\" alt=\"Open In Colab\"/></a>"
      ]
    },
    {
      "cell_type": "markdown",
      "metadata": {
        "id": "cWvs0VlCUHdr",
        "colab_type": "text"
      },
      "source": [
        "<img align=\"left\" src=\"https://lever-client-logos.s3.amazonaws.com/864372b1-534c-480e-acd5-9711f850815c-1524247202159.png\" width=200>\n",
        "<br></br>\n",
        "\n",
        "# Vector Representations\n",
        "## *Data Science Unit 4 Sprint 2 Assignment 2*"
      ]
    },
    {
      "cell_type": "code",
      "metadata": {
        "colab_type": "code",
        "id": "hyj-f9FDcVFp",
        "colab": {}
      },
      "source": [
        "import re\n",
        "import string\n",
        "\n",
        "from sklearn.feature_extraction.text import CountVectorizer, TfidfVectorizer\n",
        "import matplotlib.pyplot as plt\n",
        "import pandas as pd\n",
        "import numpy as np\n",
        "import spacy\n",
        "import seaborn as sns\n",
        "from spacy.tokenizer import Tokenizer\n",
        "from bs4 import BeautifulSoup\n",
        "from sklearn.neighbors import NearestNeighbors"
      ],
      "execution_count": 0,
      "outputs": []
    },
    {
      "cell_type": "markdown",
      "metadata": {
        "colab_type": "text",
        "id": "M7bcmqfGXrFG"
      },
      "source": [
        "## 1) *Clean:* Job Listings from indeed.com that contain the title \"Data Scientist\" \n",
        "\n",
        "You have `job_listings.csv` in the data folder for this module. The text data in the description column is still messy - full of html tags. Use the [BeautifulSoup](https://www.crummy.com/software/BeautifulSoup/bs4/doc/) library to clean up this column. You will need to read through the documentation to accomplish this task. "
      ]
    },
    {
      "cell_type": "code",
      "metadata": {
        "id": "ERnyiH_wUHdw",
        "colab_type": "code",
        "colab": {},
        "outputId": "0913830f-cd08-415a-e121-bf8b7b111aa7"
      },
      "source": [
        "df = pd.read_csv('./data/job_listings.csv')\n",
        "print(df.shape)\n",
        "df.head()"
      ],
      "execution_count": 0,
      "outputs": [
        {
          "output_type": "stream",
          "text": [
            "(426, 3)\n"
          ],
          "name": "stdout"
        },
        {
          "output_type": "execute_result",
          "data": {
            "text/html": [
              "<div>\n",
              "<style scoped>\n",
              "    .dataframe tbody tr th:only-of-type {\n",
              "        vertical-align: middle;\n",
              "    }\n",
              "\n",
              "    .dataframe tbody tr th {\n",
              "        vertical-align: top;\n",
              "    }\n",
              "\n",
              "    .dataframe thead th {\n",
              "        text-align: right;\n",
              "    }\n",
              "</style>\n",
              "<table border=\"1\" class=\"dataframe\">\n",
              "  <thead>\n",
              "    <tr style=\"text-align: right;\">\n",
              "      <th></th>\n",
              "      <th>Unnamed: 0</th>\n",
              "      <th>description</th>\n",
              "      <th>title</th>\n",
              "    </tr>\n",
              "  </thead>\n",
              "  <tbody>\n",
              "    <tr>\n",
              "      <th>0</th>\n",
              "      <td>0</td>\n",
              "      <td>b\"&lt;div&gt;&lt;div&gt;Job Requirements:&lt;/div&gt;&lt;ul&gt;&lt;li&gt;&lt;p&gt;...</td>\n",
              "      <td>Data scientist</td>\n",
              "    </tr>\n",
              "    <tr>\n",
              "      <th>1</th>\n",
              "      <td>1</td>\n",
              "      <td>b'&lt;div&gt;Job Description&lt;br/&gt;\\n&lt;br/&gt;\\n&lt;p&gt;As a Da...</td>\n",
              "      <td>Data Scientist I</td>\n",
              "    </tr>\n",
              "    <tr>\n",
              "      <th>2</th>\n",
              "      <td>2</td>\n",
              "      <td>b'&lt;div&gt;&lt;p&gt;As a Data Scientist you will be work...</td>\n",
              "      <td>Data Scientist - Entry Level</td>\n",
              "    </tr>\n",
              "    <tr>\n",
              "      <th>3</th>\n",
              "      <td>3</td>\n",
              "      <td>b'&lt;div class=\"jobsearch-JobMetadataHeader icl-...</td>\n",
              "      <td>Data Scientist</td>\n",
              "    </tr>\n",
              "    <tr>\n",
              "      <th>4</th>\n",
              "      <td>4</td>\n",
              "      <td>b'&lt;ul&gt;&lt;li&gt;Location: USA \\xe2\\x80\\x93 multiple ...</td>\n",
              "      <td>Data Scientist</td>\n",
              "    </tr>\n",
              "  </tbody>\n",
              "</table>\n",
              "</div>"
            ],
            "text/plain": [
              "   Unnamed: 0                                        description  \\\n",
              "0           0  b\"<div><div>Job Requirements:</div><ul><li><p>...   \n",
              "1           1  b'<div>Job Description<br/>\\n<br/>\\n<p>As a Da...   \n",
              "2           2  b'<div><p>As a Data Scientist you will be work...   \n",
              "3           3  b'<div class=\"jobsearch-JobMetadataHeader icl-...   \n",
              "4           4  b'<ul><li>Location: USA \\xe2\\x80\\x93 multiple ...   \n",
              "\n",
              "                          title  \n",
              "0               Data scientist   \n",
              "1              Data Scientist I  \n",
              "2  Data Scientist - Entry Level  \n",
              "3                Data Scientist  \n",
              "4                Data Scientist  "
            ]
          },
          "metadata": {
            "tags": []
          },
          "execution_count": 2
        }
      ]
    },
    {
      "cell_type": "markdown",
      "metadata": {
        "colab_type": "text",
        "id": "5C4xFZNtX1m2"
      },
      "source": [
        "## 2) Use Spacy to tokenize the listings "
      ]
    },
    {
      "cell_type": "code",
      "metadata": {
        "colab_type": "code",
        "id": "dhUHuMr-X-II",
        "colab": {}
      },
      "source": [
        "nlp = spacy.load(\"en_core_web_lg\")\n",
        "\n",
        "#Tokenizer\n",
        "tokenizer = Tokenizer(nlp.vocab)"
      ],
      "execution_count": 0,
      "outputs": []
    },
    {
      "cell_type": "code",
      "metadata": {
        "id": "C3FQoHlRUHd3",
        "colab_type": "code",
        "colab": {}
      },
      "source": [
        "def remove_html_unicode(df):\n",
        "\n",
        "    df['description'] = df['description'].apply(lambda x: BeautifulSoup(x).get_text()[2:].replace('\\\\n', ' '))\n",
        "    \n",
        "    df['description'] = df['description'].str.replace(r'\\\\(x|n)[a-z0-9]{0,2}', '')\n",
        "    \n",
        "    return df\n",
        "df = remove_html_unicode(df)"
      ],
      "execution_count": 0,
      "outputs": []
    },
    {
      "cell_type": "code",
      "metadata": {
        "id": "0AoGpNokUHd5",
        "colab_type": "code",
        "colab": {},
        "outputId": "840946d4-3ac3-4b54-d53c-45a52cb213d9"
      },
      "source": [
        "tokens = []\n",
        "\n",
        "for doc in tokenizer.pipe(df['description'], batch_size=500):\n",
        "    \n",
        "    doc_tokens = []\n",
        "    \n",
        "    for token in doc:\n",
        "        if (token.is_stop == False) & (token.is_punct == False):\n",
        "            doc_tokens.append(token.text.lower())\n",
        "            \n",
        "    tokens.append(doc_tokens)\n",
        "    \n",
        "df['tokens'] = tokens\n",
        "\n",
        "df['tokens']"
      ],
      "execution_count": 0,
      "outputs": [
        {
          "output_type": "execute_result",
          "data": {
            "text/plain": [
              "0      [b, requirements:, conceptual, understanding, ...\n",
              "1      [b, description,  , data, scientist, 1,, help,...\n",
              "2      [ , data, scientist, working, consulting, busi...\n",
              "3      [,969, $6,756, monthcontractunder, general, su...\n",
              "4      [cation:, usa,  , multiple, locations, 2+, yea...\n",
              "                             ...                        \n",
              "421    [us:, want, fantastic, fun, startup, thats, re...\n",
              "422    [ternshipat, uber,, ignite, opportunity, setti...\n",
              "423    [00,000, $350,000, yeara, million, people, yea...\n",
              "424    [nior, data, scientist, job, description,  ,  ...\n",
              "425    [rner, intelligence, new,, innovative, organiz...\n",
              "Name: tokens, Length: 426, dtype: object"
            ]
          },
          "metadata": {
            "tags": []
          },
          "execution_count": 7
        }
      ]
    },
    {
      "cell_type": "markdown",
      "metadata": {
        "colab_type": "text",
        "id": "-lgCZNL_YycP"
      },
      "source": [
        "## 3) Use Scikit-Learn's CountVectorizer to get word counts for each listing."
      ]
    },
    {
      "cell_type": "code",
      "metadata": {
        "colab_type": "code",
        "id": "X2PZ8Pj_YxcF",
        "colab": {},
        "outputId": "d6c252a6-0ad7-4947-c93a-8ed3aea2da13"
      },
      "source": [
        "vect = CountVectorizer(stop_words='english', min_df = 0.03, max_df= 0.90)\n",
        "\n",
        "vect.fit(df['description'])\n",
        "\n",
        "dtm = vect.transform(df['description'])\n",
        "\n",
        "dtm = pd.DataFrame(dtm.todense(),columns = vect.get_feature_names())\n",
        "dtm.head()"
      ],
      "execution_count": 0,
      "outputs": [
        {
          "output_type": "execute_result",
          "data": {
            "text/html": [
              "<div>\n",
              "<style scoped>\n",
              "    .dataframe tbody tr th:only-of-type {\n",
              "        vertical-align: middle;\n",
              "    }\n",
              "\n",
              "    .dataframe tbody tr th {\n",
              "        vertical-align: top;\n",
              "    }\n",
              "\n",
              "    .dataframe thead th {\n",
              "        text-align: right;\n",
              "    }\n",
              "</style>\n",
              "<table border=\"1\" class=\"dataframe\">\n",
              "  <thead>\n",
              "    <tr style=\"text-align: right;\">\n",
              "      <th></th>\n",
              "      <th>000</th>\n",
              "      <th>10</th>\n",
              "      <th>100</th>\n",
              "      <th>12</th>\n",
              "      <th>20</th>\n",
              "      <th>2019</th>\n",
              "      <th>25</th>\n",
              "      <th>3rd</th>\n",
              "      <th>40</th>\n",
              "      <th>401</th>\n",
              "      <th>...</th>\n",
              "      <th>worldwide</th>\n",
              "      <th>write</th>\n",
              "      <th>writing</th>\n",
              "      <th>written</th>\n",
              "      <th>www</th>\n",
              "      <th>year</th>\n",
              "      <th>years</th>\n",
              "      <th>york</th>\n",
              "      <th>youll</th>\n",
              "      <th>youre</th>\n",
              "    </tr>\n",
              "  </thead>\n",
              "  <tbody>\n",
              "    <tr>\n",
              "      <th>0</th>\n",
              "      <td>0</td>\n",
              "      <td>0</td>\n",
              "      <td>0</td>\n",
              "      <td>0</td>\n",
              "      <td>0</td>\n",
              "      <td>0</td>\n",
              "      <td>0</td>\n",
              "      <td>0</td>\n",
              "      <td>0</td>\n",
              "      <td>0</td>\n",
              "      <td>...</td>\n",
              "      <td>0</td>\n",
              "      <td>1</td>\n",
              "      <td>0</td>\n",
              "      <td>0</td>\n",
              "      <td>0</td>\n",
              "      <td>0</td>\n",
              "      <td>0</td>\n",
              "      <td>0</td>\n",
              "      <td>0</td>\n",
              "      <td>0</td>\n",
              "    </tr>\n",
              "    <tr>\n",
              "      <th>1</th>\n",
              "      <td>0</td>\n",
              "      <td>0</td>\n",
              "      <td>0</td>\n",
              "      <td>0</td>\n",
              "      <td>0</td>\n",
              "      <td>0</td>\n",
              "      <td>0</td>\n",
              "      <td>0</td>\n",
              "      <td>0</td>\n",
              "      <td>0</td>\n",
              "      <td>...</td>\n",
              "      <td>0</td>\n",
              "      <td>0</td>\n",
              "      <td>2</td>\n",
              "      <td>1</td>\n",
              "      <td>0</td>\n",
              "      <td>1</td>\n",
              "      <td>0</td>\n",
              "      <td>0</td>\n",
              "      <td>0</td>\n",
              "      <td>0</td>\n",
              "    </tr>\n",
              "    <tr>\n",
              "      <th>2</th>\n",
              "      <td>0</td>\n",
              "      <td>0</td>\n",
              "      <td>0</td>\n",
              "      <td>0</td>\n",
              "      <td>0</td>\n",
              "      <td>0</td>\n",
              "      <td>0</td>\n",
              "      <td>0</td>\n",
              "      <td>0</td>\n",
              "      <td>0</td>\n",
              "      <td>...</td>\n",
              "      <td>0</td>\n",
              "      <td>0</td>\n",
              "      <td>0</td>\n",
              "      <td>0</td>\n",
              "      <td>0</td>\n",
              "      <td>0</td>\n",
              "      <td>0</td>\n",
              "      <td>0</td>\n",
              "      <td>0</td>\n",
              "      <td>0</td>\n",
              "    </tr>\n",
              "    <tr>\n",
              "      <th>3</th>\n",
              "      <td>0</td>\n",
              "      <td>0</td>\n",
              "      <td>0</td>\n",
              "      <td>0</td>\n",
              "      <td>0</td>\n",
              "      <td>0</td>\n",
              "      <td>0</td>\n",
              "      <td>0</td>\n",
              "      <td>0</td>\n",
              "      <td>0</td>\n",
              "      <td>...</td>\n",
              "      <td>0</td>\n",
              "      <td>0</td>\n",
              "      <td>0</td>\n",
              "      <td>0</td>\n",
              "      <td>0</td>\n",
              "      <td>1</td>\n",
              "      <td>0</td>\n",
              "      <td>0</td>\n",
              "      <td>0</td>\n",
              "      <td>0</td>\n",
              "    </tr>\n",
              "    <tr>\n",
              "      <th>4</th>\n",
              "      <td>0</td>\n",
              "      <td>0</td>\n",
              "      <td>0</td>\n",
              "      <td>0</td>\n",
              "      <td>0</td>\n",
              "      <td>0</td>\n",
              "      <td>0</td>\n",
              "      <td>0</td>\n",
              "      <td>0</td>\n",
              "      <td>0</td>\n",
              "      <td>...</td>\n",
              "      <td>0</td>\n",
              "      <td>0</td>\n",
              "      <td>0</td>\n",
              "      <td>0</td>\n",
              "      <td>0</td>\n",
              "      <td>0</td>\n",
              "      <td>1</td>\n",
              "      <td>0</td>\n",
              "      <td>0</td>\n",
              "      <td>0</td>\n",
              "    </tr>\n",
              "  </tbody>\n",
              "</table>\n",
              "<p>5 rows × 1441 columns</p>\n",
              "</div>"
            ],
            "text/plain": [
              "   000  10  100  12  20  2019  25  3rd  40  401  ...  worldwide  write  \\\n",
              "0    0   0    0   0   0     0   0    0   0    0  ...          0      1   \n",
              "1    0   0    0   0   0     0   0    0   0    0  ...          0      0   \n",
              "2    0   0    0   0   0     0   0    0   0    0  ...          0      0   \n",
              "3    0   0    0   0   0     0   0    0   0    0  ...          0      0   \n",
              "4    0   0    0   0   0     0   0    0   0    0  ...          0      0   \n",
              "\n",
              "   writing  written  www  year  years  york  youll  youre  \n",
              "0        0        0    0     0      0     0      0      0  \n",
              "1        2        1    0     1      0     0      0      0  \n",
              "2        0        0    0     0      0     0      0      0  \n",
              "3        0        0    0     1      0     0      0      0  \n",
              "4        0        0    0     0      1     0      0      0  \n",
              "\n",
              "[5 rows x 1441 columns]"
            ]
          },
          "metadata": {
            "tags": []
          },
          "execution_count": 9
        }
      ]
    },
    {
      "cell_type": "code",
      "metadata": {
        "id": "uPoDtMYAUHeA",
        "colab_type": "code",
        "colab": {},
        "outputId": "4619f3eb-38db-4819-9fdf-c452abf7b316"
      },
      "source": [
        "print(vect.get_feature_names())"
      ],
      "execution_count": 0,
      "outputs": [
        {
          "output_type": "stream",
          "text": [
            "['000', '10', '100', '12', '20', '2019', '25', '3rd', '40', '401', '401k', '500', '600', 'abilities', 'ability', 'able', 'academic', 'accelerate', 'accept', 'access', 'accessible', 'accommodation', 'accommodations', 'accordance', 'according', 'accredited', 'accuracy', 'accurate', 'achieve', 'acquisition', 'act', 'action', 'actionable', 'actions', 'active', 'actively', 'activities', 'acumen', 'ad', 'add', 'addition', 'additional', 'address', 'adoption', 'advance', 'advanced', 'advantage', 'advertising', 'affiliation', 'affirmative', 'age', 'agencies', 'agency', 'agile', 'ai', 'algorithm', 'algorithmic', 'algorithms', 'allow', 'allows', 'alongside', 'amazon', 'amounts', 'analyses', 'analysis', 'analyst', 'analysts', 'analytic', 'analytical', 'analytics', 'analyze', 'analyzes', 'analyzing', 'ancestry', 'anomaly', 'answer', 'apis', 'app', 'applicable', 'applicants', 'application', 'applications', 'applied', 'applies', 'apply', 'applying', 'approach', 'approaches', 'appropriate', 'apps', 'architects', 'architecture', 'architectures', 'area', 'areas', 'art', 'articulate', 'artificial', 'aspects', 'assess', 'assets', 'assigned', 'assist', 'assistance', 'associated', 'associates', 'attention', 'attitude', 'audience', 'audiences', 'automate', 'automated', 'automation', 'autonomy', 'availability', 'available', 'aws', 'azure', 'ba', 'bachelor', 'bachelors', 'background', 'backgrounds', 'balance', 'base', 'based', 'basic', 'basis', 'bayesian', 'behavior', 'behavioral', 'behaviors', 'believe', 'benefit', 'benefits', 'best', 'better', 'bi', 'big', 'biggest', 'billion', 'billions', 'bonus', 'boosting', 'brand', 'brands', 'brightest', 'bring', 'bringing', 'brings', 'broad', 'broader', 'bs', 'build', 'building', 'built', 'business', 'businesses', 'ca', 'campaign', 'campaigns', 'candidate', 'candidates', 'capabilities', 'capability', 'capable', 'capacity', 'capital', 'care', 'career', 'careers', 'cases', 'casual', 'category', 'catered', 'causal', 'causes', 'celebrate', 'center', 'central', 'chain', 'challenge', 'challenges', 'challenging', 'chance', 'change', 'changes', 'changing', 'channels', 'characteristic', 'characteristics', 'check', 'cities', 'citizenship', 'city', 'class', 'classification', 'clean', 'cleaning', 'cleansing', 'clear', 'clearance', 'clearly', 'client', 'clients', 'clinical', 'close', 'closely', 'cloud', 'clustering', 'code', 'coding', 'collaborate', 'collaborating', 'collaboration', 'collaborative', 'collaboratively', 'colleagues', 'collect', 'collection', 'college', 'color', 'com', 'combination', 'combine', 'combines', 'come', 'comfortable', 'command', 'commerce', 'commercial', 'commitment', 'committed', 'common', 'communicate', 'communicating', 'communication', 'communications', 'communicator', 'communities', 'community', 'commuter', 'companies', 'company', 'companys', 'compelling', 'compensation', 'competence', 'competency', 'competitive', 'complete', 'completion', 'complex', 'complexity', 'compliance', 'components', 'comprehensive', 'computational', 'computer', 'computing', 'concept', 'concepts', 'conclusions', 'condition', 'conditions', 'conduct', 'conducting', 'conferences', 'confidence', 'connect', 'connected', 'consider', 'consideration', 'considered', 'consistent', 'constantly', 'consultant', 'consulting', 'consumer', 'consumers', 'contact', 'content', 'context', 'continue', 'continuous', 'continuously', 'contribute', 'contributor', 'control', 'coordinate', 'core', 'corporate', 'cost', 'countries', 'country', 'coverage', 'create', 'creates', 'creating', 'creation', 'creative', 'creatively', 'creativity', 'creed', 'criminal', 'critical', 'cross', 'culture', 'curiosity', 'curious', 'current', 'currently', 'custom', 'customer', 'customers', 'cutting', 'cyber', 'cycle', 'daily', 'dashboard', 'dashboards', 'database', 'databases', 'datasets', 'date', 'day', 'decision', 'decisions', 'dedicated', 'dedication', 'deep', 'deepen', 'defense', 'define', 'defined', 'defining', 'degree', 'degrees', 'deliver', 'deliverables', 'delivering', 'delivery', 'demand', 'demonstrate', 'demonstrated', 'demonstrates', 'dental', 'department', 'departments', 'depending', 'deploy', 'deploying', 'deployment', 'depth', 'derive', 'description', 'descriptive', 'design', 'designed', 'designing', 'designs', 'desirable', 'desire', 'desired', 'detailed', 'details', 'detection', 'determine', 'develop', 'developed', 'developers', 'developing', 'development', 'develops', 'devices', 'difference', 'different', 'difficult', 'digital', 'direct', 'direction', 'directly', 'disabilities', 'disability', 'disabled', 'discipline', 'disciplines', 'discover', 'discovering', 'discovery', 'discriminate', 'disparate', 'display', 'distributed', 'distributions', 'diverse', 'diversity', 'division', 'docker', 'document', 'documentation', 'documents', 'does', 'doing', 'domain', 'dont', 'draw', 'drive', 'driven', 'drivers', 'drives', 'driving', 'drug', 'duties', 'dynamic', 'early', 'easy', 'eaters', 'ecommerce', 'econometrics', 'economics', 'ecosystem', 'edge', 'education', 'educational', 'eeo', 'effective', 'effectively', 'effectiveness', 'efficiency', 'efficient', 'efficiently', 'effort', 'efforts', 'electrical', 'eligible', 'email', 'embrace', 'emerging', 'emphasis', 'employee', 'employees', 'employer', 'employment', 'empower', 'enable', 'enables', 'enabling', 'encourage', 'encouraged', 'end', 'energy', 'engage', 'engagement', 'engaging', 'engineer', 'engineering', 'engineers', 'english', 'enhance', 'enhancing', 'enjoy', 'enjoys', 'ensure', 'ensuring', 'enterprise', 'entertainment', 'entire', 'entrepreneurial', 'environment', 'environments', 'equal', 'equity', 'equivalent', 'essential', 'establish', 'established', 'etl', 'evaluate', 'evaluating', 'evaluation', 'event', 'events', 'evolve', 'evolving', 'example', 'excel', 'excellence', 'excellent', 'exceptional', 'excited', 'exciting', 'execute', 'executing', 'execution', 'executive', 'executives', 'existing', 'expand', 'expanding', 'expect', 'expectations', 'expected', 'experienced', 'experiences', 'experiment', 'experimental', 'experimentation', 'experiments', 'expert', 'expertise', 'experts', 'explain', 'exploration', 'exploratory', 'explore', 'exposure', 'expression', 'extend', 'extensive', 'external', 'extract', 'extraction', 'extremely', 'facebook', 'facilitate', 'facing', 'fair', 'familiar', 'familiarity', 'family', 'fast', 'faster', 'fastest', 'feature', 'features', 'federal', 'feedback', 'feel', 'field', 'fields', 'final', 'finance', 'financial', 'finding', 'findings', 'firm', 'fit', 'flexibility', 'flexible', 'flow', 'fluency', 'focus', 'focused', 'focuses', 'follow', 'following', 'forecasting', 'forefront', 'forest', 'forests', 'form', 'fortune', 'forward', 'foundation', 'founded', 'frame', 'framework', 'frameworks', 'francisco', 'fraud', 'free', 'friendly', 'fun', 'function', 'functional', 'functionally', 'functions', 'future', 'gain', 'gather', 'gathering', 'gender', 'general', 'generate', 'generating', 'generation', 'generous', 'genetic', 'genetics', 'geospatial', 'getting', 'git', 'given', 'giving', 'global', 'globe', 'goal', 'goals', 'good', 'google', 'governance', 'government', 'graduate', 'graduation', 'graph', 'great', 'greater', 'ground', 'group', 'groups', 'grow', 'growing', 'growth', 'guidance', 'guide', 'hadoop', 'hand', 'handle', 'handling', 'hands', 'happen', 'happy', 'hard', 'hardware', 'having', 'headquartered', 'health', 'healthcare', 'healthy', 'hear', 'help', 'helping', 'helps', 'hidden', 'high', 'higher', 'highest', 'highly', 'hire', 'hiring', 'histories', 'history', 'hive', 'hoc', 'holidays', 'home', 'hours', 'house', 'http', 'https', 'huge', 'human', 'hundreds', 'hypotheses', 'hypothesis', 'ideal', 'ideally', 'ideas', 'identifies', 'identify', 'identifying', 'identity', 'ignite', 'image', 'immediate', 'impact', 'impactful', 'implement', 'implementation', 'implementing', 'important', 'improve', 'improved', 'improvement', 'improvements', 'improving', 'include', 'includes', 'including', 'inclusion', 'inclusive', 'increase', 'independent', 'independently', 'indicators', 'individual', 'individuals', 'industrial', 'industries', 'industry', 'inference', 'influence', 'influencing', 'inform', 'information', 'informed', 'infrastructure', 'initiative', 'initiatives', 'innovate', 'innovating', 'innovation', 'innovative', 'insight', 'insights', 'insurance', 'integrate', 'integrated', 'integration', 'integrity', 'intellectual', 'intelligence', 'intelligent', 'interact', 'interactive', 'interested', 'interesting', 'intern', 'internal', 'interns', 'internship', 'interpersonal', 'interpret', 'interpretation', 'interpreting', 'intersection', 'investigation', 'investing', 'involve', 'involved', 'issues', 'java', 'javascript', 'job', 'join', 'journey', 'judgment', 'junior', 'jupyter', 'just', 'keras', 'key', 'kind', 'know', 'knowledge', 'language', 'languages', 'large', 'largest', 'latest', 'launch', 'law', 'laws', 'lead', 'leader', 'leaders', 'leadership', 'leading', 'leads', 'learn', 'learning', 'leave', 'legal', 'legally', 'let', 'lets', 'level', 'levels', 'leverage', 'leveraging', 'li', 'libraries', 'life', 'lifecycle', 'lifestyle', 'like', 'limited', 'line', 'linear', 'linux', 'list', 'live', 'lives', 'll', 'local', 'located', 'location', 'locations', 'logistic', 'long', 'look', 'looking', 'love', 'lunches', 'machine', 'maintain', 'maintaining', 'maintenance', 'major', 'make', 'makers', 'makes', 'making', 'manage', 'management', 'manager', 'managers', 'managing', 'manipulate', 'manipulating', 'manipulation', 'manner', 'manufacturing', 'map', 'marital', 'market', 'marketing', 'marketplace', 'markets', 'massive', 'master', 'masters', 'match', 'materials', 'math', 'mathematical', 'mathematics', 'matlab', 'matter', 'matters', 'meaningful', 'means', 'measurable', 'measure', 'measurement', 'measures', 'media', 'medical', 'meet', 'meetings', 'member', 'members', 'mental', 'mentor', 'merchandising', 'metadata', 'methodologies', 'methodology', 'methods', 'metrics', 'microsoft', 'military', 'million', 'millions', 'mind', 'minds', 'mindset', 'minimal', 'minimum', 'mining', 'mission', 'ml', 'mobile', 'model', 'modeling', 'modelling', 'models', 'modern', 'money', 'monitor', 'monitoring', 'months', 'motion', 'motivated', 'moving', 'mporary', 'ms', 'multi', 'multiple', 'multivariate', 'music', 'nation', 'national', 'natural', 'nature', 'necessary', 'need', 'needed', 'needs', 'network', 'networks', 'neural', 'new', 'nice', 'nlp', 'non', 'nosql', 'note', 'novel', 'number', 'numbers', 'numerous', 'numpy', 'objectives', 'offer', 'offering', 'offerings', 'offers', 'office', 'offices', 'ongoing', 'online', 'open', 'operate', 'operates', 'operating', 'operation', 'operational', 'operations', 'opportunities', 'opportunity', 'optimal', 'optimization', 'optimize', 'optimizing', 'options', 'oracle', 'oral', 'order', 'ordinance', 'organization', 'organizational', 'organizations', 'organize', 'organized', 'orientation', 'oriented', 'origin', 'outcomes', 'output', 'outside', 'overall', 'overview', 'owned', 'owners', 'ownership', 'paced', 'package', 'packages', 'paid', 'pandas', 'papers', 'participate', 'participating', 'partner', 'partnering', 'partners', 'party', 'passion', 'passionate', 'past', 'patient', 'pattern', 'patterns', 'pay', 'peers', 'people', 'perform', 'performance', 'performing', 'performs', 'perks', 'person', 'personal', 'personalization', 'perspective', 'perspectives', 'ph', 'phd', 'physical', 'physics', 'pig', 'pipeline', 'pipelines', 'place', 'plan', 'planning', 'plans', 'platform', 'platforms', 'play', 'player', 'plus', 'point', 'points', 'policies', 'policy', 'political', 'portfolio', 'position', 'positions', 'positive', 'possible', 'post', 'potential', 'power', 'powerpoint', 'practical', 'practice', 'practices', 'pre', 'predict', 'predicting', 'prediction', 'predictive', 'preferably', 'preferred', 'pregnancy', 'preparation', 'prepare', 'present', 'presentation', 'presentations', 'presenting', 'previous', 'previously', 'pricing', 'pride', 'primary', 'principal', 'principles', 'prior', 'priorities', 'prioritize', 'probability', 'problem', 'problems', 'procedures', 'process', 'processes', 'processing', 'produce', 'product', 'production', 'products', 'professional', 'professionals', 'proficiency', 'proficient', 'program', 'programming', 'programs', 'progress', 'project', 'projects', 'proper', 'proprietary', 'protected', 'prototype', 'proud', 'proven', 'provide', 'provider', 'provides', 'providing', 'pto', 'public', 'purpose', 'pursuing', 'python', 'pytorch', 'qualifications', 'qualified', 'quality', 'quantitative', 'queries', 'query', 'querying', 'questions', 'quickly', 'race', 'random', 'range', 'ranging', 'rapidly', 'reach', 'ready', 'real', 'reasonable', 'receive', 'recognition', 'recognized', 'recommendation', 'recommendations', 'record', 'records', 'recruiting', 'recruitment', 'redshift', 'reduce', 'reduction', 'regard', 'regarding', 'regardless', 'regression', 'regular', 'regularly', 'reimagining', 'related', 'relational', 'relationship', 'relationships', 'relevant', 'reliability', 'reliable', 'religion', 'relocation', 'remote', 'report', 'reporting', 'reports', 'request', 'requests', 'require', 'required', 'requirement', 'requirements', 'requires', 'research', 'researchers', 'researching', 'resource', 'resources', 'respect', 'response', 'responsibilities', 'responsibility', 'responsible', 'results', 'resume', 'resumes', 'retail', 'retailer', 'retention', 'revenue', 'review', 'reviews', 'rich', 'riders', 'right', 'rigor', 'rigorous', 'risk', 'risks', 'roadmap', 'robust', 'role', 'roles', 'root', 'run', 'running', 'safety', 'salary', 'sales', 'san', 'sas', 'save', 'scala', 'scalable', 'scale', 'scaling', 'schedule', 'school', 'science', 'sciences', 'scientific', 'scientist', 'scientists', 'scikit', 'scope', 'scoring', 'scripting', 'search', 'security', 'seek', 'seeking', 'seeks', 'segmentation', 'segments', 'selection', 'self', 'send', 'senior', 'sense', 'series', 'serve', 'server', 'service', 'services', 'serving', 'set', 'sets', 'setting', 'sex', 'sexual', 'shape', 'shaping', 'share', 'sharing', 'shopping', 'short', 'significant', 'similar', 'simple', 'simulation', 'single', 'site', 'sition', 'skill', 'skills', 'small', 'smart', 'snacks', 'social', 'software', 'solid', 'solution', 'solutions', 'solve', 'solver', 'solving', 'sophisticated', 'sound', 'source', 'sources', 'space', 'spark', 'special', 'specific', 'specifically', 'specifications', 'spend', 'spending', 'spirit', 'spss', 'sql', 'stack', 'staff', 'stakeholder', 'stakeholders', 'standard', 'standards', 'start', 'starter', 'starting', 'startup', 'state', 'statement', 'states', 'statistical', 'statistics', 'status', 'stock', 'storage', 'strategic', 'strategies', 'strategy', 'strive', 'strong', 'strongly', 'structure', 'structured', 'structures', 'student', 'students', 'studies', 'study', 'subject', 'succeed', 'success', 'successful', 'successfully', 'suite', 'summary', 'summer', 'superior', 'supervised', 'supply', 'support', 'supporting', 'supports', 'sure', 'systems', 'tableau', 'tackle', 'tactical', 'takes', 'taking', 'talent', 'talented', 'talk', 'target', 'targeting', 'task', 'tasks', 'team', 'teams', 'teamwork', 'tech', 'technical', 'techniques', 'technologies', 'technology', 'tensorflow', 'term', 'terms', 'test', 'testing', 'tests', 'text', 'thats', 'theory', 'things', 'think', 'thinking', 'thorough', 'thought', 'thousands', 'thrive', 'time', 'today', 'tool', 'tools', 'topic', 'topics', 'track', 'tracking', 'traditional', 'train', 'training', 'transform', 'transformation', 'transforming', 'translate', 'transportation', 'travel', 'tree', 'trees', 'trends', 'trust', 'trusted', 'turn', 'type', 'types', 'uber', 'ultimately', 'uncover', 'undergraduate', 'underlying', 'understand', 'understanding', 'unique', 'united', 'units', 'university', 'unsolicited', 'unstructured', 'unsupervised', 'usage', 'use', 'used', 'useful', 'user', 'users', 'uses', 'using', 'utilize', 'utilizing', 'vacation', 'validate', 'validation', 'valuable', 'value', 'values', 'variety', 'various', 'vary', 'varying', 'vast', 've', 'verbal', 'version', 'veteran', 'veterans', 'video', 'view', 'vision', 'visit', 'visual', 'visualization', 'visualizations', 'visualize', 'voice', 'volumes', 'walmart', 'want', 'warehouse', 'warehousing', 'washington', 'way', 'ways', 'web', 'website', 'week', 'weeks', 'welcome', 'wellness', 'wide', 'willing', 'willingness', 'women', 'word', 'work', 'workflows', 'workforce', 'working', 'workplace', 'works', 'world', 'worlds', 'worldwide', 'write', 'writing', 'written', 'www', 'year', 'years', 'york', 'youll', 'youre']\n"
          ],
          "name": "stdout"
        }
      ]
    },
    {
      "cell_type": "code",
      "metadata": {
        "id": "kyf8UUGNUHeD",
        "colab_type": "code",
        "colab": {},
        "outputId": "23ed2ea1-2319-4eec-85a2-60a32fb6e2f3"
      },
      "source": [
        "print(dtm)"
      ],
      "execution_count": 0,
      "outputs": [
        {
          "output_type": "stream",
          "text": [
            "     000  10  100  12  20  2019  25  3rd  40  401  ...  worldwide  write  \\\n",
            "0      0   0    0   0   0     0   0    0   0    0  ...          0      1   \n",
            "1      0   0    0   0   0     0   0    0   0    0  ...          0      0   \n",
            "2      0   0    0   0   0     0   0    0   0    0  ...          0      0   \n",
            "3      0   0    0   0   0     0   0    0   0    0  ...          0      0   \n",
            "4      0   0    0   0   0     0   0    0   0    0  ...          0      0   \n",
            "..   ...  ..  ...  ..  ..   ...  ..  ...  ..  ...  ...        ...    ...   \n",
            "421    0   0    0   0   0     0   0    0   2    0  ...          0      0   \n",
            "422    0   0    0   0   0     1   0    0   0    0  ...          0      0   \n",
            "423    2   0    0   0   0     0   0    0   0    0  ...          0      0   \n",
            "424    0   0    0   0   0     0   0    0   0    0  ...          0      0   \n",
            "425    1   0    0   0   0     0   1    0   0    0  ...          0      0   \n",
            "\n",
            "     writing  written  www  year  years  york  youll  youre  \n",
            "0          0        0    0     0      0     0      0      0  \n",
            "1          2        1    0     1      0     0      0      0  \n",
            "2          0        0    0     0      0     0      0      0  \n",
            "3          0        0    0     1      0     0      0      0  \n",
            "4          0        0    0     0      1     0      0      0  \n",
            "..       ...      ...  ...   ...    ...   ...    ...    ...  \n",
            "421        0        0    1     2      3     1      1      0  \n",
            "422        1        0    0     0      0     0      0      0  \n",
            "423        1        0    0     1      0     0      0      0  \n",
            "424        0        0    0     0      1     0      0      0  \n",
            "425        0        0    0     0      2     0      0      0  \n",
            "\n",
            "[426 rows x 1441 columns]\n"
          ],
          "name": "stdout"
        }
      ]
    },
    {
      "cell_type": "markdown",
      "metadata": {
        "colab_type": "text",
        "id": "Zo1iH_UeY7_n"
      },
      "source": [
        "## 4) Visualize the most common word counts"
      ]
    },
    {
      "cell_type": "code",
      "metadata": {
        "colab_type": "code",
        "id": "M5LB00uyZKV5",
        "colab": {},
        "outputId": "5745c19e-2559-4e45-84ae-5b7f39b46345"
      },
      "source": [
        "doc_len = [len(doc) for doc in df['description']]\n",
        "sns.distplot(doc_len)"
      ],
      "execution_count": 0,
      "outputs": [
        {
          "output_type": "execute_result",
          "data": {
            "text/plain": [
              "<matplotlib.axes._subplots.AxesSubplot at 0x1a467b8890>"
            ]
          },
          "metadata": {
            "tags": []
          },
          "execution_count": 13
        },
        {
          "output_type": "display_data",
          "data": {
            "image/png": "[encoded data removed]",
            "text/plain": [
              "<Figure size 432x288 with 1 Axes>"
            ]
          },
          "metadata": {
            "tags": [],
            "needs_background": "light"
          }
        }
      ]
    },
    {
      "cell_type": "markdown",
      "metadata": {
        "colab_type": "text",
        "id": "bwFsTqrVZMYi"
      },
      "source": [
        "## 5) Use Scikit-Learn's tfidfVectorizer to get a TF-IDF feature matrix"
      ]
    },
    {
      "cell_type": "code",
      "metadata": {
        "colab_type": "code",
        "id": "-gx2gZCbl5Np",
        "colab": {},
        "outputId": "5a83f7af-a961-4855-e9f2-65e084c72dc8"
      },
      "source": [
        "def tokenize(document):\n",
        "    doc = nlp(document)\n",
        "    return [token.lemma_ for token in doc if (token.is_stop != True) and (token.is_punct != True)]\n",
        "\n",
        "vect = TfidfVectorizer(tokenizer=tokenize, min_df=0.025, max_df=.95, ngram_range=(1,2))\n",
        "\n",
        "sparse = vect.fit_transform(df['description'])\n",
        "\n",
        "dtm = pd.DataFrame(sparse.todense(), columns=vect.get_feature_names())\n",
        "\n",
        "\n",
        "dtm.head()"
      ],
      "execution_count": 0,
      "outputs": [
        {
          "output_type": "execute_result",
          "data": {
            "text/html": [
              "<div>\n",
              "<style scoped>\n",
              "    .dataframe tbody tr th:only-of-type {\n",
              "        vertical-align: middle;\n",
              "    }\n",
              "\n",
              "    .dataframe tbody tr th {\n",
              "        vertical-align: top;\n",
              "    }\n",
              "\n",
              "    .dataframe thead th {\n",
              "        text-align: right;\n",
              "    }\n",
              "</style>\n",
              "<table border=\"1\" class=\"dataframe\">\n",
              "  <thead>\n",
              "    <tr style=\"text-align: right;\">\n",
              "      <th></th>\n",
              "      <th></th>\n",
              "      <th></th>\n",
              "      <th></th>\n",
              "      <th></th>\n",
              "      <th>experience</th>\n",
              "      <th>3</th>\n",
              "      <th>additional</th>\n",
              "      <th>bachelor</th>\n",
              "      <th>benefit</th>\n",
              "      <th>build</th>\n",
              "      <th>...</th>\n",
              "      <th>year</th>\n",
              "      <th>year experience</th>\n",
              "      <th>year hand</th>\n",
              "      <th>year industry</th>\n",
              "      <th>year professional</th>\n",
              "      <th>year relevant</th>\n",
              "      <th>year work</th>\n",
              "      <th>york</th>\n",
              "      <th>york city</th>\n",
              "      <th>you\\'ll</th>\n",
              "    </tr>\n",
              "  </thead>\n",
              "  <tbody>\n",
              "    <tr>\n",
              "      <th>0</th>\n",
              "      <td>0.000000</td>\n",
              "      <td>0.0</td>\n",
              "      <td>0.0</td>\n",
              "      <td>0.0</td>\n",
              "      <td>0.0</td>\n",
              "      <td>0.0</td>\n",
              "      <td>0.0</td>\n",
              "      <td>0.0</td>\n",
              "      <td>0.0</td>\n",
              "      <td>0.0</td>\n",
              "      <td>...</td>\n",
              "      <td>0.000000</td>\n",
              "      <td>0.0</td>\n",
              "      <td>0.0</td>\n",
              "      <td>0.0</td>\n",
              "      <td>0.0</td>\n",
              "      <td>0.0</td>\n",
              "      <td>0.0</td>\n",
              "      <td>0.0</td>\n",
              "      <td>0.0</td>\n",
              "      <td>0.0</td>\n",
              "    </tr>\n",
              "    <tr>\n",
              "      <th>1</th>\n",
              "      <td>0.087714</td>\n",
              "      <td>0.0</td>\n",
              "      <td>0.0</td>\n",
              "      <td>0.0</td>\n",
              "      <td>0.0</td>\n",
              "      <td>0.0</td>\n",
              "      <td>0.0</td>\n",
              "      <td>0.0</td>\n",
              "      <td>0.0</td>\n",
              "      <td>0.0</td>\n",
              "      <td>...</td>\n",
              "      <td>0.020545</td>\n",
              "      <td>0.0</td>\n",
              "      <td>0.0</td>\n",
              "      <td>0.0</td>\n",
              "      <td>0.0</td>\n",
              "      <td>0.0</td>\n",
              "      <td>0.0</td>\n",
              "      <td>0.0</td>\n",
              "      <td>0.0</td>\n",
              "      <td>0.0</td>\n",
              "    </tr>\n",
              "    <tr>\n",
              "      <th>2</th>\n",
              "      <td>0.082163</td>\n",
              "      <td>0.0</td>\n",
              "      <td>0.0</td>\n",
              "      <td>0.0</td>\n",
              "      <td>0.0</td>\n",
              "      <td>0.0</td>\n",
              "      <td>0.0</td>\n",
              "      <td>0.0</td>\n",
              "      <td>0.0</td>\n",
              "      <td>0.0</td>\n",
              "      <td>...</td>\n",
              "      <td>0.000000</td>\n",
              "      <td>0.0</td>\n",
              "      <td>0.0</td>\n",
              "      <td>0.0</td>\n",
              "      <td>0.0</td>\n",
              "      <td>0.0</td>\n",
              "      <td>0.0</td>\n",
              "      <td>0.0</td>\n",
              "      <td>0.0</td>\n",
              "      <td>0.0</td>\n",
              "    </tr>\n",
              "    <tr>\n",
              "      <th>3</th>\n",
              "      <td>0.077217</td>\n",
              "      <td>0.0</td>\n",
              "      <td>0.0</td>\n",
              "      <td>0.0</td>\n",
              "      <td>0.0</td>\n",
              "      <td>0.0</td>\n",
              "      <td>0.0</td>\n",
              "      <td>0.0</td>\n",
              "      <td>0.0</td>\n",
              "      <td>0.0</td>\n",
              "      <td>...</td>\n",
              "      <td>0.030144</td>\n",
              "      <td>0.0</td>\n",
              "      <td>0.0</td>\n",
              "      <td>0.0</td>\n",
              "      <td>0.0</td>\n",
              "      <td>0.0</td>\n",
              "      <td>0.0</td>\n",
              "      <td>0.0</td>\n",
              "      <td>0.0</td>\n",
              "      <td>0.0</td>\n",
              "    </tr>\n",
              "    <tr>\n",
              "      <th>4</th>\n",
              "      <td>0.075278</td>\n",
              "      <td>0.0</td>\n",
              "      <td>0.0</td>\n",
              "      <td>0.0</td>\n",
              "      <td>0.0</td>\n",
              "      <td>0.0</td>\n",
              "      <td>0.0</td>\n",
              "      <td>0.0</td>\n",
              "      <td>0.0</td>\n",
              "      <td>0.0</td>\n",
              "      <td>...</td>\n",
              "      <td>0.088161</td>\n",
              "      <td>0.0</td>\n",
              "      <td>0.0</td>\n",
              "      <td>0.0</td>\n",
              "      <td>0.0</td>\n",
              "      <td>0.0</td>\n",
              "      <td>0.0</td>\n",
              "      <td>0.0</td>\n",
              "      <td>0.0</td>\n",
              "      <td>0.0</td>\n",
              "    </tr>\n",
              "  </tbody>\n",
              "</table>\n",
              "<p>5 rows × 2516 columns</p>\n",
              "</div>"
            ],
            "text/plain": [
              "                                experience    3    additional    bachelor  \\\n",
              "0  0.000000  0.0  0.0   0.0            0.0  0.0           0.0         0.0   \n",
              "1  0.087714  0.0  0.0   0.0            0.0  0.0           0.0         0.0   \n",
              "2  0.082163  0.0  0.0   0.0            0.0  0.0           0.0         0.0   \n",
              "3  0.077217  0.0  0.0   0.0            0.0  0.0           0.0         0.0   \n",
              "4  0.075278  0.0  0.0   0.0            0.0  0.0           0.0         0.0   \n",
              "\n",
              "     benefit    build  ...      year  year experience  year hand  \\\n",
              "0        0.0      0.0  ...  0.000000              0.0        0.0   \n",
              "1        0.0      0.0  ...  0.020545              0.0        0.0   \n",
              "2        0.0      0.0  ...  0.000000              0.0        0.0   \n",
              "3        0.0      0.0  ...  0.030144              0.0        0.0   \n",
              "4        0.0      0.0  ...  0.088161              0.0        0.0   \n",
              "\n",
              "   year industry  year professional  year relevant  year work  york  \\\n",
              "0            0.0                0.0            0.0        0.0   0.0   \n",
              "1            0.0                0.0            0.0        0.0   0.0   \n",
              "2            0.0                0.0            0.0        0.0   0.0   \n",
              "3            0.0                0.0            0.0        0.0   0.0   \n",
              "4            0.0                0.0            0.0        0.0   0.0   \n",
              "\n",
              "   york city  you\\'ll  \n",
              "0        0.0      0.0  \n",
              "1        0.0      0.0  \n",
              "2        0.0      0.0  \n",
              "3        0.0      0.0  \n",
              "4        0.0      0.0  \n",
              "\n",
              "[5 rows x 2516 columns]"
            ]
          },
          "metadata": {
            "tags": []
          },
          "execution_count": 16
        }
      ]
    },
    {
      "cell_type": "markdown",
      "metadata": {
        "id": "95hqtxcnUHeL",
        "colab_type": "text"
      },
      "source": [
        "## 6) Create a NearestNeighbor Model. Write the description of your ideal datascience job and query your job listings. "
      ]
    },
    {
      "cell_type": "code",
      "metadata": {
        "inputHidden": false,
        "jupyter": {
          "outputs_hidden": false
        },
        "outputHidden": false,
        "id": "tef8icvcUHeM",
        "colab_type": "code",
        "colab": {},
        "outputId": "07d5ee35-2c88-4d90-cb12-b4c9453a4589"
      },
      "source": [
        "nn = NearestNeighbors(n_neighbors=5, algorithm='ball_tree')\n",
        "nn.fit(dtm)"
      ],
      "execution_count": 0,
      "outputs": [
        {
          "output_type": "execute_result",
          "data": {
            "text/plain": [
              "NearestNeighbors(algorithm='ball_tree', leaf_size=30, metric='minkowski',\n",
              "                 metric_params=None, n_jobs=None, n_neighbors=5, p=2,\n",
              "                 radius=1.0)"
            ]
          },
          "metadata": {
            "tags": []
          },
          "execution_count": 18
        }
      ]
    },
    {
      "cell_type": "code",
      "metadata": {
        "id": "9wo1QKU8UHeO",
        "colab_type": "code",
        "colab": {},
        "outputId": "3523934a-edbd-48a6-e9c1-823273ecfe5d"
      },
      "source": [
        "ideal = ['''\n",
        "Data scientist position focused on performing deep dive analysis into data sets and reports to identify problems or suspected issues with collected data.''']\n",
        "\n",
        "new = vect.transform(ideal)\n",
        "\n",
        "nn.kneighbors(new.todense())"
      ],
      "execution_count": 0,
      "outputs": [
        {
          "output_type": "execute_result",
          "data": {
            "text/plain": [
              "(array([[1.27615539, 1.27675027, 1.28957226, 1.30396031, 1.30396031]]),\n",
              " array([[384, 136, 338, 373, 118]]))"
            ]
          },
          "metadata": {
            "tags": []
          },
          "execution_count": 19
        }
      ]
    },
    {
      "cell_type": "markdown",
      "metadata": {
        "colab_type": "text",
        "id": "FiDfTWceoRkH"
      },
      "source": [
        "## Stretch Goals\n",
        "\n",
        " - Try different visualizations for words and frequencies - what story do you want to tell with the data?\n",
        " - Scrape Job Listings for the job title \"Data Analyst\". How do these differ from Data Scientist Job Listings\n",
        " - Try and identify requirements for experience specific technologies that are asked for in the job listings. How are those distributed among the job listings?\n",
        " - Use a clustering algorithm to cluster documents by their most important terms. Do the clusters reveal any common themes?\n",
        "  - **Hint:** K-means might not be the best algorithm for this. Do a little bit of research to see what might be good for this. Also, remember that algorithms that depend on Euclidean distance break down with high dimensional data.\n",
        " - Create a labeled dataset - which jobs will you apply for? Train a model to select the jobs you are most likely to apply for. :) "
      ]
    }
  ]
}