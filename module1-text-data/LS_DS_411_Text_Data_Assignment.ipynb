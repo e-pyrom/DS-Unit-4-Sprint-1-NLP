{
  "nbformat": 4,
  "nbformat_minor": 0,
  "metadata": {
    "colab": {
      "name": "LS_DS_411_Text_Data_Assignment.ipynb",
      "provenance": [],
      "collapsed_sections": [],
      "include_colab_link": true
    },
    "kernelspec": {
      "display_name": "U4-S1-NLP (Python3)",
      "language": "python",
      "name": "u4-s1-nlp"
    },
    "language_info": {
      "codemirror_mode": {
        "name": "ipython",
        "version": 3
      },
      "file_extension": ".py",
      "mimetype": "text/x-python",
      "name": "python",
      "nbconvert_exporter": "python",
      "pygments_lexer": "ipython3",
      "version": "3.7.6"
    },
    "toc-autonumbering": false
  },
  "cells": [
    {
      "cell_type": "markdown",
      "metadata": {
        "id": "view-in-github",
        "colab_type": "text"
      },
      "source": [
        "<a href=\"https://colab.research.google.com/github/e-pyrom/DS-Unit-4-Sprint-1-NLP/blob/master/module1-text-data/LS_DS_411_Text_Data_Assignment.ipynb\" target=\"_parent\"><img src=\"https://colab.research.google.com/assets/colab-badge.svg\" alt=\"Open In Colab\"/></a>"
      ]
    },
    {
      "cell_type": "markdown",
      "metadata": {
        "id": "FkS0L2VUVRA7",
        "colab_type": "text"
      },
      "source": [
        "<img align=\"left\" src=\"https://lever-client-logos.s3.amazonaws.com/864372b1-534c-480e-acd5-9711f850815c-1524247202159.png\" width=200>\n",
        "<br></br>\n",
        "<br></br>\n",
        "\n",
        "# Natural Language Processing (NLP)\n",
        "## *Data Science Unit 4 Sprint 1 Assignment 1*\n",
        "\n",
        "Your goal in this assignment: find the attributes of the best & worst coffee shops in the dataset. The text is fairly raw: dates in the review, extra words in the `star_rating` column, etc. You'll probably want to clean that stuff up for a better analysis. \n",
        "\n",
        "Analyze the corpus of text using text visualizations of token frequency. Try cleaning the data as much as possible. Try the following techniques: \n",
        "- Lemmatization\n",
        "- Custom stopword removal\n",
        "\n",
        "Keep in mind the attributes of good tokens. Once you have a solid baseline, layer in the star rating in your visualization(s). Key part of this assignment - produce a write-up of the attributes of the best and worst coffee shops. Based on your analysis, what makes the best the best and the worst the worst. Use graphs and numbesr from your analysis to support your conclusions. There should be plenty of markdown cells! :coffee:"
      ]
    },
    {
      "cell_type": "code",
      "metadata": {
        "id": "9so329RpVRA8",
        "colab_type": "code",
        "colab": {},
        "outputId": "7509b6a4-5df9-43bd-8634-084430ef2107"
      },
      "source": [
        "from IPython.display import YouTubeVideo\n",
        "\n",
        "YouTubeVideo('Jml7NVYm8cs')"
      ],
      "execution_count": 0,
      "outputs": [
        {
          "output_type": "execute_result",
          "data": {
            "image/jpeg": "[encoded data removed]",
            "text/html": [
              "\n",
              "        <iframe\n",
              "            width=\"400\"\n",
              "            height=\"300\"\n",
              "            src=\"https://www.youtube.com/embed/Jml7NVYm8cs\"\n",
              "            frameborder=\"0\"\n",
              "            allowfullscreen\n",
              "        ></iframe>\n",
              "        "
            ],
            "text/plain": [
              "<IPython.lib.display.YouTubeVideo at 0x10e694510>"
            ]
          },
          "metadata": {
            "tags": []
          },
          "execution_count": 1
        }
      ]
    },
    {
      "cell_type": "code",
      "metadata": {
        "id": "sox4yeceVRA_",
        "colab_type": "code",
        "colab": {},
        "outputId": "6ce20298-43bb-46dc-efd7-2b977f981605"
      },
      "source": [
        "%pwd"
      ],
      "execution_count": 0,
      "outputs": [
        {
          "output_type": "execute_result",
          "data": {
            "text/plain": [
              "'/Users/pyrome/DS-Unit-4-Sprint-1-NLP/module1-text-data'"
            ]
          },
          "metadata": {
            "tags": []
          },
          "execution_count": 2
        }
      ]
    },
    {
      "cell_type": "code",
      "metadata": {
        "id": "dtW2rKP-VRBC",
        "colab_type": "code",
        "colab": {}
      },
      "source": [
        "# Imports\n",
        "import pandas as pd\n",
        "\n",
        "# Panda setting\n",
        "pd.set_option('display.max_rows', 200)\n",
        "pd. set_option('display.max_columns', 200)\n",
        "\n",
        "import squarify\n",
        "import matplotlib.pyplot as plt\n",
        "import seaborn as sns\n",
        "import spacy\n",
        "from spacy import displacy\n",
        "from spacy.matcher import Matcher\n",
        "from spacy.tokenizer import Tokenizer\n",
        "\n",
        "from collections import Counter\n",
        "\n",
        "nlp = spacy.load('en_core_web_lg')"
      ],
      "execution_count": 0,
      "outputs": []
    },
    {
      "cell_type": "code",
      "metadata": {
        "id": "vAwhx6bjVRBE",
        "colab_type": "code",
        "colab": {},
        "outputId": "0ad2b970-0500-447f-e496-bbe6d83aa931"
      },
      "source": [
        "# Coffeshop reviews\n",
        "url = \"data/yelp_coffeeshop_review_data.csv\"\n",
        "\n",
        "shops = pd.read_csv(url)\n",
        "shops.head()"
      ],
      "execution_count": 0,
      "outputs": [
        {
          "output_type": "execute_result",
          "data": {
            "text/html": [
              "<div>\n",
              "<style scoped>\n",
              "    .dataframe tbody tr th:only-of-type {\n",
              "        vertical-align: middle;\n",
              "    }\n",
              "\n",
              "    .dataframe tbody tr th {\n",
              "        vertical-align: top;\n",
              "    }\n",
              "\n",
              "    .dataframe thead th {\n",
              "        text-align: right;\n",
              "    }\n",
              "</style>\n",
              "<table border=\"1\" class=\"dataframe\">\n",
              "  <thead>\n",
              "    <tr style=\"text-align: right;\">\n",
              "      <th></th>\n",
              "      <th>coffee_shop_name</th>\n",
              "      <th>full_review_text</th>\n",
              "      <th>star_rating</th>\n",
              "    </tr>\n",
              "  </thead>\n",
              "  <tbody>\n",
              "    <tr>\n",
              "      <th>0</th>\n",
              "      <td>The Factory - Cafe With a Soul</td>\n",
              "      <td>11/25/2016 1 check-in Love love loved the atm...</td>\n",
              "      <td>5.0 star rating</td>\n",
              "    </tr>\n",
              "    <tr>\n",
              "      <th>1</th>\n",
              "      <td>The Factory - Cafe With a Soul</td>\n",
              "      <td>12/2/2016 Listed in Date Night: Austin, Ambia...</td>\n",
              "      <td>4.0 star rating</td>\n",
              "    </tr>\n",
              "    <tr>\n",
              "      <th>2</th>\n",
              "      <td>The Factory - Cafe With a Soul</td>\n",
              "      <td>11/30/2016 1 check-in Listed in Brunch Spots ...</td>\n",
              "      <td>4.0 star rating</td>\n",
              "    </tr>\n",
              "    <tr>\n",
              "      <th>3</th>\n",
              "      <td>The Factory - Cafe With a Soul</td>\n",
              "      <td>11/25/2016 Very cool decor! Good drinks Nice ...</td>\n",
              "      <td>2.0 star rating</td>\n",
              "    </tr>\n",
              "    <tr>\n",
              "      <th>4</th>\n",
              "      <td>The Factory - Cafe With a Soul</td>\n",
              "      <td>12/3/2016 1 check-in They are located within ...</td>\n",
              "      <td>4.0 star rating</td>\n",
              "    </tr>\n",
              "  </tbody>\n",
              "</table>\n",
              "</div>"
            ],
            "text/plain": [
              "                  coffee_shop_name  \\\n",
              "0  The Factory - Cafe With a Soul    \n",
              "1  The Factory - Cafe With a Soul    \n",
              "2  The Factory - Cafe With a Soul    \n",
              "3  The Factory - Cafe With a Soul    \n",
              "4  The Factory - Cafe With a Soul    \n",
              "\n",
              "                                    full_review_text        star_rating  \n",
              "0   11/25/2016 1 check-in Love love loved the atm...   5.0 star rating   \n",
              "1   12/2/2016 Listed in Date Night: Austin, Ambia...   4.0 star rating   \n",
              "2   11/30/2016 1 check-in Listed in Brunch Spots ...   4.0 star rating   \n",
              "3   11/25/2016 Very cool decor! Good drinks Nice ...   2.0 star rating   \n",
              "4   12/3/2016 1 check-in They are located within ...   4.0 star rating   "
            ]
          },
          "metadata": {
            "tags": []
          },
          "execution_count": 4
        }
      ]
    },
    {
      "cell_type": "code",
      "metadata": {
        "id": "HKqFX7fCVRBH",
        "colab_type": "code",
        "colab": {},
        "outputId": "fba3f6e7-b1f8-4a05-fa07-d615a3efd178"
      },
      "source": [
        "# Strip words from rating column and convert to float\n",
        "shops['rating'] = shops['star_rating'].str.replace(' star rating', '').astype('float')\n",
        "del shops['star_rating']\n",
        "shops['rating'].value_counts(normalize=True).to_frame()"
      ],
      "execution_count": 0,
      "outputs": [
        {
          "output_type": "execute_result",
          "data": {
            "text/html": [
              "<div>\n",
              "<style scoped>\n",
              "    .dataframe tbody tr th:only-of-type {\n",
              "        vertical-align: middle;\n",
              "    }\n",
              "\n",
              "    .dataframe tbody tr th {\n",
              "        vertical-align: top;\n",
              "    }\n",
              "\n",
              "    .dataframe thead th {\n",
              "        text-align: right;\n",
              "    }\n",
              "</style>\n",
              "<table border=\"1\" class=\"dataframe\">\n",
              "  <thead>\n",
              "    <tr style=\"text-align: right;\">\n",
              "      <th></th>\n",
              "      <th>rating</th>\n",
              "    </tr>\n",
              "  </thead>\n",
              "  <tbody>\n",
              "    <tr>\n",
              "      <th>5.0</th>\n",
              "      <td>0.496324</td>\n",
              "    </tr>\n",
              "    <tr>\n",
              "      <th>4.0</th>\n",
              "      <td>0.309874</td>\n",
              "    </tr>\n",
              "    <tr>\n",
              "      <th>3.0</th>\n",
              "      <td>0.096901</td>\n",
              "    </tr>\n",
              "    <tr>\n",
              "      <th>2.0</th>\n",
              "      <td>0.060399</td>\n",
              "    </tr>\n",
              "    <tr>\n",
              "      <th>1.0</th>\n",
              "      <td>0.036502</td>\n",
              "    </tr>\n",
              "  </tbody>\n",
              "</table>\n",
              "</div>"
            ],
            "text/plain": [
              "       rating\n",
              "5.0  0.496324\n",
              "4.0  0.309874\n",
              "3.0  0.096901\n",
              "2.0  0.060399\n",
              "1.0  0.036502"
            ]
          },
          "metadata": {
            "tags": []
          },
          "execution_count": 5
        }
      ]
    },
    {
      "cell_type": "code",
      "metadata": {
        "id": "TQ8Bff34VRBK",
        "colab_type": "code",
        "colab": {},
        "outputId": "4c642d84-26d4-433f-ba87-68520262f086"
      },
      "source": [
        "# Extract date from full_review_text column and convert to datetime\n",
        "\n",
        "shops['date'] = shops['full_review_text'].str.split(expand=True)[0]\n",
        "shops['full_review_text'] = shops['full_review_text'].apply(lambda x: \" \".join(x.split()[1:]))\n",
        "shops['coffee_shop_name'] = shops['coffee_shop_name'].str.lower().str.strip()\n",
        "shops['full_review_text'] = shops['full_review_text'].str.lower().str.strip()\n",
        "shops.sample(10)"
      ],
      "execution_count": 0,
      "outputs": [
        {
          "output_type": "execute_result",
          "data": {
            "text/html": [
              "<div>\n",
              "<style scoped>\n",
              "    .dataframe tbody tr th:only-of-type {\n",
              "        vertical-align: middle;\n",
              "    }\n",
              "\n",
              "    .dataframe tbody tr th {\n",
              "        vertical-align: top;\n",
              "    }\n",
              "\n",
              "    .dataframe thead th {\n",
              "        text-align: right;\n",
              "    }\n",
              "</style>\n",
              "<table border=\"1\" class=\"dataframe\">\n",
              "  <thead>\n",
              "    <tr style=\"text-align: right;\">\n",
              "      <th></th>\n",
              "      <th>coffee_shop_name</th>\n",
              "      <th>full_review_text</th>\n",
              "      <th>rating</th>\n",
              "      <th>date</th>\n",
              "    </tr>\n",
              "  </thead>\n",
              "  <tbody>\n",
              "    <tr>\n",
              "      <th>4370</th>\n",
              "      <td>sa-ten</td>\n",
              "      <td>delicious smoked salmon toast and ohayo, with ...</td>\n",
              "      <td>5.0</td>\n",
              "      <td>8/31/2016</td>\n",
              "    </tr>\n",
              "    <tr>\n",
              "      <th>4574</th>\n",
              "      <td>sorrento’s coffee</td>\n",
              "      <td>across the hills and over the mountains, past ...</td>\n",
              "      <td>5.0</td>\n",
              "      <td>10/15/2013</td>\n",
              "    </tr>\n",
              "    <tr>\n",
              "      <th>6490</th>\n",
              "      <td>quack’s 43rd street bakery</td>\n",
              "      <td>1 check-in delicious pastries in a nice hipste...</td>\n",
              "      <td>4.0</td>\n",
              "      <td>7/13/2016</td>\n",
              "    </tr>\n",
              "    <tr>\n",
              "      <th>816</th>\n",
              "      <td>café crème</td>\n",
              "      <td>nice little place outside the city. food was p...</td>\n",
              "      <td>4.0</td>\n",
              "      <td>10/18/2015</td>\n",
              "    </tr>\n",
              "    <tr>\n",
              "      <th>6597</th>\n",
              "      <td>juan pelota</td>\n",
              "      <td>1 check-in they make their mochas the old-fash...</td>\n",
              "      <td>4.0</td>\n",
              "      <td>11/18/2014</td>\n",
              "    </tr>\n",
              "    <tr>\n",
              "      <th>3637</th>\n",
              "      <td>cenote</td>\n",
              "      <td>we are visiting from out of state. my mission ...</td>\n",
              "      <td>4.0</td>\n",
              "      <td>11/7/2016</td>\n",
              "    </tr>\n",
              "    <tr>\n",
              "      <th>5325</th>\n",
              "      <td>genuine joe</td>\n",
              "      <td>i've been coming to genuine joe's for years, a...</td>\n",
              "      <td>5.0</td>\n",
              "      <td>4/11/2014</td>\n",
              "    </tr>\n",
              "    <tr>\n",
              "      <th>1661</th>\n",
              "      <td>summer moon coffee bar</td>\n",
              "      <td>summermoon...my second home, literally. moved ...</td>\n",
              "      <td>5.0</td>\n",
              "      <td>2/8/2016</td>\n",
              "    </tr>\n",
              "    <tr>\n",
              "      <th>1712</th>\n",
              "      <td>fat cats organic coffee and dessert</td>\n",
              "      <td>2 check-ins some of the best baked goods in au...</td>\n",
              "      <td>5.0</td>\n",
              "      <td>10/1/2016</td>\n",
              "    </tr>\n",
              "    <tr>\n",
              "      <th>5174</th>\n",
              "      <td>toms</td>\n",
              "      <td>i had chai latte and the flavor really reminds...</td>\n",
              "      <td>5.0</td>\n",
              "      <td>2/17/2016</td>\n",
              "    </tr>\n",
              "  </tbody>\n",
              "</table>\n",
              "</div>"
            ],
            "text/plain": [
              "                         coffee_shop_name  \\\n",
              "4370                               sa-ten   \n",
              "4574                    sorrento’s coffee   \n",
              "6490           quack’s 43rd street bakery   \n",
              "816                            café crème   \n",
              "6597                          juan pelota   \n",
              "3637                               cenote   \n",
              "5325                          genuine joe   \n",
              "1661               summer moon coffee bar   \n",
              "1712  fat cats organic coffee and dessert   \n",
              "5174                                 toms   \n",
              "\n",
              "                                       full_review_text  rating        date  \n",
              "4370  delicious smoked salmon toast and ohayo, with ...     5.0   8/31/2016  \n",
              "4574  across the hills and over the mountains, past ...     5.0  10/15/2013  \n",
              "6490  1 check-in delicious pastries in a nice hipste...     4.0   7/13/2016  \n",
              "816   nice little place outside the city. food was p...     4.0  10/18/2015  \n",
              "6597  1 check-in they make their mochas the old-fash...     4.0  11/18/2014  \n",
              "3637  we are visiting from out of state. my mission ...     4.0   11/7/2016  \n",
              "5325  i've been coming to genuine joe's for years, a...     5.0   4/11/2014  \n",
              "1661  summermoon...my second home, literally. moved ...     5.0    2/8/2016  \n",
              "1712  2 check-ins some of the best baked goods in au...     5.0   10/1/2016  \n",
              "5174  i had chai latte and the flavor really reminds...     5.0   2/17/2016  "
            ]
          },
          "metadata": {
            "tags": []
          },
          "execution_count": 6
        }
      ]
    },
    {
      "cell_type": "code",
      "metadata": {
        "id": "t2rfDkCPVRBM",
        "colab_type": "code",
        "colab": {},
        "outputId": "c24c838a-feb2-42ae-ed3e-8652f3511bfb"
      },
      "source": [
        "print(shops.loc[5934, 'full_review_text'])"
      ],
      "execution_count": 0,
      "outputs": [
        {
          "output_type": "stream",
          "text": [
            "5 check-ins i have to admit the first time i went in here i was not impressed. there was a cart overflowing with dirty dishes. the garbage was filled to capacity, the cream and sugar area was sticky and gross. and honestly, the place smelled. i was pretty put off. i didn't want to go back...but i did. i *must* have caught them right after a rush. while i'm not impressed with their coffee their lattes are the best i've had in austin. hands down. i've had the coffee twice now. i go by around 4pm and maybe that's a strange hour but one time my coffee was luke warm and the next time it tasted burnt. after a wicked crap day i stopped again and said it would be the last time, that's when i got the latte. + that latte was ordered, paid for and in my hands in less than 2 minutes. super barista! + that latte was goooooooood + the employees are very polite. + i didn't have to repeat my drink order + there were zero snarky comments when i asked where the 'sugar free' list was (you know who i'm talking about...mermaid logos, attitude problems, over priced everything?) - not a big fan of the coffee. *might* try that one more time i don't know if i'll swing by to try and \"adult bev\" any time soon after work but i will eventually and update from there.\n"
          ],
          "name": "stdout"
        }
      ]
    },
    {
      "cell_type": "code",
      "metadata": {
        "id": "YqaDyoY1VRBP",
        "colab_type": "code",
        "colab": {},
        "outputId": "e9aba35a-0210-4494-8982-9a0a685c4abd"
      },
      "source": [
        "# Extract check-ins as int\n",
        "shops['check-ins'] = shops['full_review_text'].str.extract(r\"((\\d+) check-ins?)\")[1].astype('float').fillna(0)\n",
        "shops['full_review_text'] = shops['full_review_text'].str.replace(r\"(\\d+ check-ins?)\", \"\")\n",
        "shops.sample(10)"
      ],
      "execution_count": 0,
      "outputs": [
        {
          "output_type": "execute_result",
          "data": {
            "text/html": [
              "<div>\n",
              "<style scoped>\n",
              "    .dataframe tbody tr th:only-of-type {\n",
              "        vertical-align: middle;\n",
              "    }\n",
              "\n",
              "    .dataframe tbody tr th {\n",
              "        vertical-align: top;\n",
              "    }\n",
              "\n",
              "    .dataframe thead th {\n",
              "        text-align: right;\n",
              "    }\n",
              "</style>\n",
              "<table border=\"1\" class=\"dataframe\">\n",
              "  <thead>\n",
              "    <tr style=\"text-align: right;\">\n",
              "      <th></th>\n",
              "      <th>coffee_shop_name</th>\n",
              "      <th>full_review_text</th>\n",
              "      <th>rating</th>\n",
              "      <th>date</th>\n",
              "      <th>check-ins</th>\n",
              "    </tr>\n",
              "  </thead>\n",
              "  <tbody>\n",
              "    <tr>\n",
              "      <th>2475</th>\n",
              "      <td>caffé medici</td>\n",
              "      <td>this is definitely my go-to spot whenever i'm ...</td>\n",
              "      <td>4.0</td>\n",
              "      <td>9/5/2015</td>\n",
              "      <td>0.0</td>\n",
              "    </tr>\n",
              "    <tr>\n",
              "      <th>1611</th>\n",
              "      <td>summer moon coffee bar</td>\n",
              "      <td>good cup of ice coffee. we got to see another...</td>\n",
              "      <td>4.0</td>\n",
              "      <td>6/21/2016</td>\n",
              "      <td>1.0</td>\n",
              "    </tr>\n",
              "    <tr>\n",
              "      <th>2646</th>\n",
              "      <td>third coast coffee roasting company</td>\n",
              "      <td>this place is great. friendly staff, excellent...</td>\n",
              "      <td>5.0</td>\n",
              "      <td>9/24/2015</td>\n",
              "      <td>0.0</td>\n",
              "    </tr>\n",
              "    <tr>\n",
              "      <th>3639</th>\n",
              "      <td>cenote</td>\n",
              "      <td>free wifi, good food, friendly crowd, lots of...</td>\n",
              "      <td>5.0</td>\n",
              "      <td>8/10/2015</td>\n",
              "      <td>1.0</td>\n",
              "    </tr>\n",
              "    <tr>\n",
              "      <th>2820</th>\n",
              "      <td>dolce neve</td>\n",
              "      <td>we stumbled upon this place since it was near ...</td>\n",
              "      <td>4.0</td>\n",
              "      <td>6/26/2016</td>\n",
              "      <td>0.0</td>\n",
              "    </tr>\n",
              "    <tr>\n",
              "      <th>7396</th>\n",
              "      <td>live oak market</td>\n",
              "      <td>this place rocks! having just moved here a cou...</td>\n",
              "      <td>5.0</td>\n",
              "      <td>2/10/2014</td>\n",
              "      <td>0.0</td>\n",
              "    </tr>\n",
              "    <tr>\n",
              "      <th>3769</th>\n",
              "      <td>lucky lab coffee</td>\n",
              "      <td>as someone who used to get the same thing ever...</td>\n",
              "      <td>5.0</td>\n",
              "      <td>6/6/2016</td>\n",
              "      <td>0.0</td>\n",
              "    </tr>\n",
              "    <tr>\n",
              "      <th>2505</th>\n",
              "      <td>caffé medici</td>\n",
              "      <td>i had a latte here one afternoon on a weekend ...</td>\n",
              "      <td>3.0</td>\n",
              "      <td>2/22/2014</td>\n",
              "      <td>0.0</td>\n",
              "    </tr>\n",
              "    <tr>\n",
              "      <th>4406</th>\n",
              "      <td>tea haus</td>\n",
              "      <td>been here many times, nothing really stood ou...</td>\n",
              "      <td>4.0</td>\n",
              "      <td>5/18/2016</td>\n",
              "      <td>2.0</td>\n",
              "    </tr>\n",
              "    <tr>\n",
              "      <th>912</th>\n",
              "      <td>venezia italian gelato</td>\n",
              "      <td>came with my friend 10 days after they opened....</td>\n",
              "      <td>4.0</td>\n",
              "      <td>5/30/2016</td>\n",
              "      <td>0.0</td>\n",
              "    </tr>\n",
              "  </tbody>\n",
              "</table>\n",
              "</div>"
            ],
            "text/plain": [
              "                         coffee_shop_name  \\\n",
              "2475                         caffé medici   \n",
              "1611               summer moon coffee bar   \n",
              "2646  third coast coffee roasting company   \n",
              "3639                               cenote   \n",
              "2820                           dolce neve   \n",
              "7396                      live oak market   \n",
              "3769                     lucky lab coffee   \n",
              "2505                         caffé medici   \n",
              "4406                             tea haus   \n",
              "912                venezia italian gelato   \n",
              "\n",
              "                                       full_review_text  rating       date  \\\n",
              "2475  this is definitely my go-to spot whenever i'm ...     4.0   9/5/2015   \n",
              "1611   good cup of ice coffee. we got to see another...     4.0  6/21/2016   \n",
              "2646  this place is great. friendly staff, excellent...     5.0  9/24/2015   \n",
              "3639   free wifi, good food, friendly crowd, lots of...     5.0  8/10/2015   \n",
              "2820  we stumbled upon this place since it was near ...     4.0  6/26/2016   \n",
              "7396  this place rocks! having just moved here a cou...     5.0  2/10/2014   \n",
              "3769  as someone who used to get the same thing ever...     5.0   6/6/2016   \n",
              "2505  i had a latte here one afternoon on a weekend ...     3.0  2/22/2014   \n",
              "4406   been here many times, nothing really stood ou...     4.0  5/18/2016   \n",
              "912   came with my friend 10 days after they opened....     4.0  5/30/2016   \n",
              "\n",
              "      check-ins  \n",
              "2475        0.0  \n",
              "1611        1.0  \n",
              "2646        0.0  \n",
              "3639        1.0  \n",
              "2820        0.0  \n",
              "7396        0.0  \n",
              "3769        0.0  \n",
              "2505        0.0  \n",
              "4406        2.0  \n",
              "912         0.0  "
            ]
          },
          "metadata": {
            "tags": []
          },
          "execution_count": 8
        }
      ]
    },
    {
      "cell_type": "code",
      "metadata": {
        "id": "pT4TL43GVRBV",
        "colab_type": "code",
        "colab": {},
        "outputId": "a5771b90-2838-4638-a7fa-82c6f2d751ff"
      },
      "source": [
        "# Remove punctuations\n",
        "import string\n",
        "def remove_punc(text):\n",
        "    return text.translate(str.maketrans('', '', string.punctuation))\n",
        "print(shops.loc[5934, 'full_review_text'])\n",
        "shops['full_review_text'] = shops['full_review_text'].apply(remove_punc)\n",
        "\n",
        "print(shops.loc[5934, 'full_review_text'])"
      ],
      "execution_count": 0,
      "outputs": [
        {
          "output_type": "stream",
          "text": [
            " i have to admit the first time i went in here i was not impressed. there was a cart overflowing with dirty dishes. the garbage was filled to capacity, the cream and sugar area was sticky and gross. and honestly, the place smelled. i was pretty put off. i didn't want to go back...but i did. i *must* have caught them right after a rush. while i'm not impressed with their coffee their lattes are the best i've had in austin. hands down. i've had the coffee twice now. i go by around 4pm and maybe that's a strange hour but one time my coffee was luke warm and the next time it tasted burnt. after a wicked crap day i stopped again and said it would be the last time, that's when i got the latte. + that latte was ordered, paid for and in my hands in less than 2 minutes. super barista! + that latte was goooooooood + the employees are very polite. + i didn't have to repeat my drink order + there were zero snarky comments when i asked where the 'sugar free' list was (you know who i'm talking about...mermaid logos, attitude problems, over priced everything?) - not a big fan of the coffee. *might* try that one more time i don't know if i'll swing by to try and \"adult bev\" any time soon after work but i will eventually and update from there.\n",
            " i have to admit the first time i went in here i was not impressed there was a cart overflowing with dirty dishes the garbage was filled to capacity the cream and sugar area was sticky and gross and honestly the place smelled i was pretty put off i didnt want to go backbut i did i must have caught them right after a rush while im not impressed with their coffee their lattes are the best ive had in austin hands down ive had the coffee twice now i go by around 4pm and maybe thats a strange hour but one time my coffee was luke warm and the next time it tasted burnt after a wicked crap day i stopped again and said it would be the last time thats when i got the latte  that latte was ordered paid for and in my hands in less than 2 minutes super barista  that latte was goooooooood  the employees are very polite  i didnt have to repeat my drink order  there were zero snarky comments when i asked where the sugar free list was you know who im talking aboutmermaid logos attitude problems over priced everything  not a big fan of the coffee might try that one more time i dont know if ill swing by to try and adult bev any time soon after work but i will eventually and update from there\n"
          ],
          "name": "stdout"
        }
      ]
    },
    {
      "cell_type": "code",
      "metadata": {
        "id": "VMDwod1iVRBX",
        "colab_type": "code",
        "colab": {},
        "outputId": "7e72aa37-b1c0-4aa9-fbe3-507df9071bc8"
      },
      "source": [
        "# Lemmatization, process raw text with Spacy\n",
        "def lemmatize_txt(text):\n",
        "    lemmas = [] # Store lemmas\n",
        "    doc = nlp(text) # Instantiate doc object\n",
        "    # Loop through each token in text\n",
        "    for token in doc:\n",
        "        if token.lemma_:\n",
        "            if not token.lemma_ == '-PRON-':\n",
        "                lemmas.append(token.lemma_)\n",
        "    return ' '.join(lemmas)\n",
        "shops['lemmatize_full_review_text'] = shops['full_review_text'].apply(lemmatize_txt)\n",
        "shops['lemmatize_full_review_text'] = shops['lemmatize_full_review_text'].str.strip()\n",
        "shops.head()"
      ],
      "execution_count": 0,
      "outputs": [
        {
          "output_type": "execute_result",
          "data": {
            "text/html": [
              "<div>\n",
              "<style scoped>\n",
              "    .dataframe tbody tr th:only-of-type {\n",
              "        vertical-align: middle;\n",
              "    }\n",
              "\n",
              "    .dataframe tbody tr th {\n",
              "        vertical-align: top;\n",
              "    }\n",
              "\n",
              "    .dataframe thead th {\n",
              "        text-align: right;\n",
              "    }\n",
              "</style>\n",
              "<table border=\"1\" class=\"dataframe\">\n",
              "  <thead>\n",
              "    <tr style=\"text-align: right;\">\n",
              "      <th></th>\n",
              "      <th>coffee_shop_name</th>\n",
              "      <th>full_review_text</th>\n",
              "      <th>rating</th>\n",
              "      <th>date</th>\n",
              "      <th>check-ins</th>\n",
              "      <th>lemmatize_full_review_text</th>\n",
              "    </tr>\n",
              "  </thead>\n",
              "  <tbody>\n",
              "    <tr>\n",
              "      <th>0</th>\n",
              "      <td>the factory - cafe with a soul</td>\n",
              "      <td>love love loved the atmosphere every corner o...</td>\n",
              "      <td>5.0</td>\n",
              "      <td>11/25/2016</td>\n",
              "      <td>1.0</td>\n",
              "      <td>love love love the atmosphere every corner of ...</td>\n",
              "    </tr>\n",
              "    <tr>\n",
              "      <th>1</th>\n",
              "      <td>the factory - cafe with a soul</td>\n",
              "      <td>listed in date night austin ambiance in austin...</td>\n",
              "      <td>4.0</td>\n",
              "      <td>12/2/2016</td>\n",
              "      <td>0.0</td>\n",
              "      <td>list in date night austin ambiance in austin b...</td>\n",
              "    </tr>\n",
              "    <tr>\n",
              "      <th>2</th>\n",
              "      <td>the factory - cafe with a soul</td>\n",
              "      <td>listed in brunch spots i loved the eclectic a...</td>\n",
              "      <td>4.0</td>\n",
              "      <td>11/30/2016</td>\n",
              "      <td>1.0</td>\n",
              "      <td>list in brunch spot i love the eclectic and ho...</td>\n",
              "    </tr>\n",
              "    <tr>\n",
              "      <th>3</th>\n",
              "      <td>the factory - cafe with a soul</td>\n",
              "      <td>very cool decor good drinks nice seating howev...</td>\n",
              "      <td>2.0</td>\n",
              "      <td>11/25/2016</td>\n",
              "      <td>0.0</td>\n",
              "      <td>very cool decor good drink nice seating howeve...</td>\n",
              "    </tr>\n",
              "    <tr>\n",
              "      <th>4</th>\n",
              "      <td>the factory - cafe with a soul</td>\n",
              "      <td>they are located within the northcross mall s...</td>\n",
              "      <td>4.0</td>\n",
              "      <td>12/3/2016</td>\n",
              "      <td>1.0</td>\n",
              "      <td>be locate within the northcross mall shopping ...</td>\n",
              "    </tr>\n",
              "  </tbody>\n",
              "</table>\n",
              "</div>"
            ],
            "text/plain": [
              "                 coffee_shop_name  \\\n",
              "0  the factory - cafe with a soul   \n",
              "1  the factory - cafe with a soul   \n",
              "2  the factory - cafe with a soul   \n",
              "3  the factory - cafe with a soul   \n",
              "4  the factory - cafe with a soul   \n",
              "\n",
              "                                    full_review_text  rating        date  \\\n",
              "0   love love loved the atmosphere every corner o...     5.0  11/25/2016   \n",
              "1  listed in date night austin ambiance in austin...     4.0   12/2/2016   \n",
              "2   listed in brunch spots i loved the eclectic a...     4.0  11/30/2016   \n",
              "3  very cool decor good drinks nice seating howev...     2.0  11/25/2016   \n",
              "4   they are located within the northcross mall s...     4.0   12/3/2016   \n",
              "\n",
              "   check-ins                         lemmatize_full_review_text  \n",
              "0        1.0  love love love the atmosphere every corner of ...  \n",
              "1        0.0  list in date night austin ambiance in austin b...  \n",
              "2        1.0  list in brunch spot i love the eclectic and ho...  \n",
              "3        0.0  very cool decor good drink nice seating howeve...  \n",
              "4        1.0  be locate within the northcross mall shopping ...  "
            ]
          },
          "metadata": {
            "tags": []
          },
          "execution_count": 10
        }
      ]
    },
    {
      "cell_type": "code",
      "metadata": {
        "id": "48FD_0DQVRBZ",
        "colab_type": "code",
        "colab": {},
        "outputId": "84445784-4291-455f-f81b-f262e7e5aca2"
      },
      "source": [
        "shops.loc[0, 'lemmatize_full_review_text']"
      ],
      "execution_count": 0,
      "outputs": [
        {
          "output_type": "execute_result",
          "data": {
            "text/plain": [
              "'love love love the atmosphere every corner of the coffee shop have own style and there be swing i order the matcha latte and be muy fantastico order and get drink be pretty streamlined i order on an ipad which include all beverage selection that range from coffee to wine desire level of sweetness and a checkout system i get latte within minute i be hope for a typical heart or feather on latte but find list out all the possibility of what the art may be any idea'"
            ]
          },
          "metadata": {
            "tags": []
          },
          "execution_count": 12
        }
      ]
    },
    {
      "cell_type": "code",
      "metadata": {
        "id": "9XCz1n-vVRBc",
        "colab_type": "code",
        "colab": {},
        "outputId": "53856da9-4761-44a7-ac8a-72d3cd0162a6"
      },
      "source": [
        "STOPWORDS = nlp.Defaults.stop_words.union([' ', 'coffee', 'shop'])\n",
        "\n",
        "def tokenize_text(text):\n",
        "    tokens = []\n",
        "    doc = nlp(text) # Instantiate doc object\n",
        "    \"\"\"Add tokens w/o Stop Words\"\"\"\n",
        "    for token in doc:\n",
        "        if token.text not in STOPWORDS:\n",
        "            tokens.append(token.text)\n",
        "    return tokens\n",
        "\n",
        "shops['tokens'] = shops['lemmatize_full_review_text'].apply(tokenize_text)\n",
        "shops.head()"
      ],
      "execution_count": 0,
      "outputs": [
        {
          "output_type": "execute_result",
          "data": {
            "text/html": [
              "<div>\n",
              "<style scoped>\n",
              "    .dataframe tbody tr th:only-of-type {\n",
              "        vertical-align: middle;\n",
              "    }\n",
              "\n",
              "    .dataframe tbody tr th {\n",
              "        vertical-align: top;\n",
              "    }\n",
              "\n",
              "    .dataframe thead th {\n",
              "        text-align: right;\n",
              "    }\n",
              "</style>\n",
              "<table border=\"1\" class=\"dataframe\">\n",
              "  <thead>\n",
              "    <tr style=\"text-align: right;\">\n",
              "      <th></th>\n",
              "      <th>coffee_shop_name</th>\n",
              "      <th>full_review_text</th>\n",
              "      <th>rating</th>\n",
              "      <th>date</th>\n",
              "      <th>check-ins</th>\n",
              "      <th>lemmatize_full_review_text</th>\n",
              "      <th>tokens</th>\n",
              "    </tr>\n",
              "  </thead>\n",
              "  <tbody>\n",
              "    <tr>\n",
              "      <th>0</th>\n",
              "      <td>the factory - cafe with a soul</td>\n",
              "      <td>love love loved the atmosphere every corner o...</td>\n",
              "      <td>5.0</td>\n",
              "      <td>11/25/2016</td>\n",
              "      <td>1.0</td>\n",
              "      <td>love love love the atmosphere every corner of ...</td>\n",
              "      <td>[love, love, love, atmosphere, corner, style, ...</td>\n",
              "    </tr>\n",
              "    <tr>\n",
              "      <th>1</th>\n",
              "      <td>the factory - cafe with a soul</td>\n",
              "      <td>listed in date night austin ambiance in austin...</td>\n",
              "      <td>4.0</td>\n",
              "      <td>12/2/2016</td>\n",
              "      <td>0.0</td>\n",
              "      <td>list in date night austin ambiance in austin b...</td>\n",
              "      <td>[list, date, night, austin, ambiance, austin, ...</td>\n",
              "    </tr>\n",
              "    <tr>\n",
              "      <th>2</th>\n",
              "      <td>the factory - cafe with a soul</td>\n",
              "      <td>listed in brunch spots i loved the eclectic a...</td>\n",
              "      <td>4.0</td>\n",
              "      <td>11/30/2016</td>\n",
              "      <td>1.0</td>\n",
              "      <td>list in brunch spot i love the eclectic and ho...</td>\n",
              "      <td>[list, brunch, spot, love, eclectic, homey, pl...</td>\n",
              "    </tr>\n",
              "    <tr>\n",
              "      <th>3</th>\n",
              "      <td>the factory - cafe with a soul</td>\n",
              "      <td>very cool decor good drinks nice seating howev...</td>\n",
              "      <td>2.0</td>\n",
              "      <td>11/25/2016</td>\n",
              "      <td>0.0</td>\n",
              "      <td>very cool decor good drink nice seating howeve...</td>\n",
              "      <td>[cool, decor, good, drink, nice, seating, over...</td>\n",
              "    </tr>\n",
              "    <tr>\n",
              "      <th>4</th>\n",
              "      <td>the factory - cafe with a soul</td>\n",
              "      <td>they are located within the northcross mall s...</td>\n",
              "      <td>4.0</td>\n",
              "      <td>12/3/2016</td>\n",
              "      <td>1.0</td>\n",
              "      <td>be locate within the northcross mall shopping ...</td>\n",
              "      <td>[locate, northcross, mall, shopping, center, f...</td>\n",
              "    </tr>\n",
              "  </tbody>\n",
              "</table>\n",
              "</div>"
            ],
            "text/plain": [
              "                 coffee_shop_name  \\\n",
              "0  the factory - cafe with a soul   \n",
              "1  the factory - cafe with a soul   \n",
              "2  the factory - cafe with a soul   \n",
              "3  the factory - cafe with a soul   \n",
              "4  the factory - cafe with a soul   \n",
              "\n",
              "                                    full_review_text  rating        date  \\\n",
              "0   love love loved the atmosphere every corner o...     5.0  11/25/2016   \n",
              "1  listed in date night austin ambiance in austin...     4.0   12/2/2016   \n",
              "2   listed in brunch spots i loved the eclectic a...     4.0  11/30/2016   \n",
              "3  very cool decor good drinks nice seating howev...     2.0  11/25/2016   \n",
              "4   they are located within the northcross mall s...     4.0   12/3/2016   \n",
              "\n",
              "   check-ins                         lemmatize_full_review_text  \\\n",
              "0        1.0  love love love the atmosphere every corner of ...   \n",
              "1        0.0  list in date night austin ambiance in austin b...   \n",
              "2        1.0  list in brunch spot i love the eclectic and ho...   \n",
              "3        0.0  very cool decor good drink nice seating howeve...   \n",
              "4        1.0  be locate within the northcross mall shopping ...   \n",
              "\n",
              "                                              tokens  \n",
              "0  [love, love, love, atmosphere, corner, style, ...  \n",
              "1  [list, date, night, austin, ambiance, austin, ...  \n",
              "2  [list, brunch, spot, love, eclectic, homey, pl...  \n",
              "3  [cool, decor, good, drink, nice, seating, over...  \n",
              "4  [locate, northcross, mall, shopping, center, f...  "
            ]
          },
          "metadata": {
            "tags": []
          },
          "execution_count": 14
        }
      ]
    },
    {
      "cell_type": "markdown",
      "metadata": {
        "id": "XH5_YKWKVRBe",
        "colab_type": "text"
      },
      "source": [
        "## How do we want to analyze these coffee shop tokens? \n",
        "\n",
        "- Overall Word / Token Count\n",
        "- View Counts by Rating \n",
        "- *Hint:* a 'bad' coffee shops has a rating betweeen 1 & 3 based on the distribution of ratings. A 'good' coffee shop is a 4 or 5. "
      ]
    },
    {
      "cell_type": "code",
      "metadata": {
        "id": "u-EmKyIsVRBf",
        "colab_type": "code",
        "colab": {}
      },
      "source": [
        "def count(docs):\n",
        "    word_counts = Counter()\n",
        "    appears_in = Counter()\n",
        "\n",
        "    total_docs = len(docs)\n",
        "\n",
        "    for doc in docs:\n",
        "        word_counts.update(doc)\n",
        "        appears_in.update(set(doc))\n",
        "\n",
        "    temp = zip(word_counts.keys(), word_counts.values())\n",
        "\n",
        "    wc = pd.DataFrame(temp, columns = ['word', 'count'])\n",
        "\n",
        "    wc['rank'] = wc['count'].rank(method='first', ascending=False)\n",
        "    total = wc['count'].sum()\n",
        "\n",
        "    wc['pct_total'] = wc['count'].apply(lambda x: x / total)\n",
        "\n",
        "    wc = wc.sort_values(by='rank')\n",
        "    wc['cul_pct_total'] = wc['pct_total'].cumsum()\n",
        "\n",
        "    t2 = zip(appears_in.keys(), appears_in.values())\n",
        "    ac = pd.DataFrame(t2, columns=['word', 'appears_in'])\n",
        "    wc = ac.merge(wc, on='word')\n",
        "\n",
        "    wc['appears_in_pct'] = wc['appears_in'].apply(lambda x: x / total_docs)\n",
        "\n",
        "    return wc.sort_values(by='rank')"
      ],
      "execution_count": 0,
      "outputs": []
    },
    {
      "cell_type": "code",
      "metadata": {
        "id": "xmyFTK7BVRBg",
        "colab_type": "code",
        "colab": {},
        "outputId": "ad74f434-aef7-49c7-903b-5c3ee38d9280"
      },
      "source": [
        "wc = count(shops['tokens'])\n",
        "wc.head()"
      ],
      "execution_count": 0,
      "outputs": [
        {
          "output_type": "execute_result",
          "data": {
            "text/html": [
              "<div>\n",
              "<style scoped>\n",
              "    .dataframe tbody tr th:only-of-type {\n",
              "        vertical-align: middle;\n",
              "    }\n",
              "\n",
              "    .dataframe tbody tr th {\n",
              "        vertical-align: top;\n",
              "    }\n",
              "\n",
              "    .dataframe thead th {\n",
              "        text-align: right;\n",
              "    }\n",
              "</style>\n",
              "<table border=\"1\" class=\"dataframe\">\n",
              "  <thead>\n",
              "    <tr style=\"text-align: right;\">\n",
              "      <th></th>\n",
              "      <th>word</th>\n",
              "      <th>appears_in</th>\n",
              "      <th>count</th>\n",
              "      <th>rank</th>\n",
              "      <th>pct_total</th>\n",
              "      <th>cul_pct_total</th>\n",
              "      <th>appears_in_pct</th>\n",
              "    </tr>\n",
              "  </thead>\n",
              "  <tbody>\n",
              "    <tr>\n",
              "      <th>74</th>\n",
              "      <td>place</td>\n",
              "      <td>3888</td>\n",
              "      <td>6043</td>\n",
              "      <td>1.0</td>\n",
              "      <td>0.018023</td>\n",
              "      <td>0.018023</td>\n",
              "      <td>0.510504</td>\n",
              "    </tr>\n",
              "    <tr>\n",
              "      <th>154</th>\n",
              "      <td>good</td>\n",
              "      <td>3587</td>\n",
              "      <td>5382</td>\n",
              "      <td>2.0</td>\n",
              "      <td>0.016051</td>\n",
              "      <td>0.034074</td>\n",
              "      <td>0.470982</td>\n",
              "    </tr>\n",
              "    <tr>\n",
              "      <th>58</th>\n",
              "      <td>great</td>\n",
              "      <td>2853</td>\n",
              "      <td>3946</td>\n",
              "      <td>3.0</td>\n",
              "      <td>0.011768</td>\n",
              "      <td>0.045842</td>\n",
              "      <td>0.374606</td>\n",
              "    </tr>\n",
              "    <tr>\n",
              "      <th>35</th>\n",
              "      <td></td>\n",
              "      <td>1874</td>\n",
              "      <td>3873</td>\n",
              "      <td>4.0</td>\n",
              "      <td>0.011551</td>\n",
              "      <td>0.057393</td>\n",
              "      <td>0.246061</td>\n",
              "    </tr>\n",
              "    <tr>\n",
              "      <th>157</th>\n",
              "      <td>like</td>\n",
              "      <td>2260</td>\n",
              "      <td>3351</td>\n",
              "      <td>5.0</td>\n",
              "      <td>0.009994</td>\n",
              "      <td>0.067387</td>\n",
              "      <td>0.296744</td>\n",
              "    </tr>\n",
              "  </tbody>\n",
              "</table>\n",
              "</div>"
            ],
            "text/plain": [
              "      word  appears_in  count  rank  pct_total  cul_pct_total  appears_in_pct\n",
              "74   place        3888   6043   1.0   0.018023       0.018023        0.510504\n",
              "154   good        3587   5382   2.0   0.016051       0.034074        0.470982\n",
              "58   great        2853   3946   3.0   0.011768       0.045842        0.374606\n",
              "35                1874   3873   4.0   0.011551       0.057393        0.246061\n",
              "157   like        2260   3351   5.0   0.009994       0.067387        0.296744"
            ]
          },
          "metadata": {
            "tags": []
          },
          "execution_count": 17
        }
      ]
    },
    {
      "cell_type": "code",
      "metadata": {
        "id": "XMcR7h9mVRBj",
        "colab_type": "code",
        "colab": {},
        "outputId": "84376d01-dd26-4c55-bda7-34bc4d7fc8f9"
      },
      "source": [
        "wc.loc[47, 'word']"
      ],
      "execution_count": 0,
      "outputs": [
        {
          "output_type": "execute_result",
          "data": {
            "text/plain": [
              "'rave'"
            ]
          },
          "metadata": {
            "tags": []
          },
          "execution_count": 18
        }
      ]
    },
    {
      "cell_type": "code",
      "metadata": {
        "id": "jE3GGVS1VRBl",
        "colab_type": "code",
        "colab": {},
        "outputId": "5dce0bbb-1d3a-450f-abf8-c695f7038677"
      },
      "source": [
        "wc_top20 = wc[wc['rank'] <= 20]\n",
        "\n",
        "squarify.plot(sizes=wc_top20['pct_total'], label=wc_top20['word'], alpha=0.8)\n",
        "plt.axis('off')\n",
        "plt.show()"
      ],
      "execution_count": 0,
      "outputs": [
        {
          "output_type": "display_data",
          "data": {
            "image/png": "[encoded data removed]",
            "text/plain": [
              "<Figure size 432x288 with 1 Axes>"
            ]
          },
          "metadata": {
            "tags": [],
            "needs_background": "light"
          }
        }
      ]
    },
    {
      "cell_type": "code",
      "metadata": {
        "id": "avwFLv8zVRBo",
        "colab_type": "code",
        "colab": {},
        "outputId": "b2f9a134-a9c3-4fc7-ef18-f7729833e1e3"
      },
      "source": [
        "shops['coffee_shop_name'].nunique()"
      ],
      "execution_count": 0,
      "outputs": [
        {
          "output_type": "execute_result",
          "data": {
            "text/plain": [
              "79"
            ]
          },
          "metadata": {
            "tags": []
          },
          "execution_count": 20
        }
      ]
    },
    {
      "cell_type": "code",
      "metadata": {
        "id": "j5PCz8hHVRBq",
        "colab_type": "code",
        "colab": {},
        "outputId": "f8189f64-e5ef-4aa6-994d-9714f4eb2ba5"
      },
      "source": [
        "sns.distplot(shops['rating']);"
      ],
      "execution_count": 0,
      "outputs": [
        {
          "output_type": "display_data",
          "data": {
            "image/png": "[encoded data removed]",
            "text/plain": [
              "<Figure size 432x288 with 1 Axes>"
            ]
          },
          "metadata": {
            "tags": [],
            "needs_background": "light"
          }
        }
      ]
    },
    {
      "cell_type": "code",
      "metadata": {
        "id": "NUYYfHGPVRBs",
        "colab_type": "code",
        "colab": {},
        "outputId": "b1320e32-77c1-42d6-d984-5f4253b98e0f"
      },
      "source": [
        "shops.rating.describe()"
      ],
      "execution_count": 0,
      "outputs": [
        {
          "output_type": "execute_result",
          "data": {
            "text/plain": [
              "count    7616.000000\n",
              "mean        4.169118\n",
              "std         1.065311\n",
              "min         1.000000\n",
              "25%         4.000000\n",
              "50%         4.000000\n",
              "75%         5.000000\n",
              "max         5.000000\n",
              "Name: rating, dtype: float64"
            ]
          },
          "metadata": {
            "tags": []
          },
          "execution_count": 22
        }
      ]
    },
    {
      "cell_type": "markdown",
      "metadata": {
        "id": "Tm_Zv4GxVRBu",
        "colab_type": "text"
      },
      "source": [
        "## Can visualize the words with the greatest difference in counts between 'good' & 'bad'?\n",
        "\n",
        "Couple Notes: \n",
        "- Rel. freq. instead of absolute counts b/c of different numbers of reviews\n",
        "- Only look at the top 5-10 words with the greatest differences\n"
      ]
    },
    {
      "cell_type": "code",
      "metadata": {
        "id": "OOpXp_Z1VRBv",
        "colab_type": "code",
        "colab": {},
        "outputId": "d7b898c1-26fd-44c5-e648-9271b5d315f8"
      },
      "source": [
        "# Bad word count, rating less than 4, rank less than or equal to 20\n",
        "wc_bad = count(shops[shops['rating'] < 4]['tokens'])\n",
        "wc_top20_bad = wc_bad[wc_bad['rank'] <= 20]\n",
        "\n",
        "squarify.plot(sizes=wc_top20_bad['pct_total'], label=wc_top20_bad['word'], alpha=0.8)\n",
        "plt.axis('off')\n",
        "plt.show()"
      ],
      "execution_count": 0,
      "outputs": [
        {
          "output_type": "display_data",
          "data": {
            "image/png": "[encoded data removed]",
            "text/plain": [
              "<Figure size 432x288 with 1 Axes>"
            ]
          },
          "metadata": {
            "tags": [],
            "needs_background": "light"
          }
        }
      ]
    },
    {
      "cell_type": "code",
      "metadata": {
        "id": "mCmQpd92VRBw",
        "colab_type": "code",
        "colab": {},
        "outputId": "f8fdd3da-73f7-442c-ed75-32cefce25e01"
      },
      "source": [
        "# Good word count\n",
        "wc_good = count(shops[shops['rating'] >= 4]['tokens'])\n",
        "wc_top20_good = wc_good[wc_good['rank'] <= 20]\n",
        "\n",
        "squarify.plot(sizes=wc_top20_good['pct_total'], label=wc_top20_good['word'], alpha=0.8)\n",
        "plt.axis('off')\n",
        "plt.show()"
      ],
      "execution_count": 0,
      "outputs": [
        {
          "output_type": "display_data",
          "data": {
            "image/png": "[encoded data removed]",
            "text/plain": [
              "<Figure size 432x288 with 1 Axes>"
            ]
          },
          "metadata": {
            "tags": [],
            "needs_background": "light"
          }
        }
      ]
    },
    {
      "cell_type": "code",
      "metadata": {
        "id": "2WFZFftQVRBz",
        "colab_type": "code",
        "colab": {},
        "outputId": "6a6463ad-0456-4590-cbd6-ab492c64b869"
      },
      "source": [
        "wc_bad['appears_in_pct_bad'] = wc_bad['appears_in_pct']\n",
        "diff = wc_good[['word', 'appears_in_pct']].merge(wc_bad[['word', 'appears_in_pct_bad']], how='outer')\n",
        "diff.head(20)"
      ],
      "execution_count": 0,
      "outputs": [
        {
          "output_type": "execute_result",
          "data": {
            "text/html": [
              "<div>\n",
              "<style scoped>\n",
              "    .dataframe tbody tr th:only-of-type {\n",
              "        vertical-align: middle;\n",
              "    }\n",
              "\n",
              "    .dataframe tbody tr th {\n",
              "        vertical-align: top;\n",
              "    }\n",
              "\n",
              "    .dataframe thead th {\n",
              "        text-align: right;\n",
              "    }\n",
              "</style>\n",
              "<table border=\"1\" class=\"dataframe\">\n",
              "  <thead>\n",
              "    <tr style=\"text-align: right;\">\n",
              "      <th></th>\n",
              "      <th>word</th>\n",
              "      <th>appears_in_pct</th>\n",
              "      <th>appears_in_pct_bad</th>\n",
              "    </tr>\n",
              "  </thead>\n",
              "  <tbody>\n",
              "    <tr>\n",
              "      <th>0</th>\n",
              "      <td>place</td>\n",
              "      <td>0.510261</td>\n",
              "      <td>0.511518</td>\n",
              "    </tr>\n",
              "    <tr>\n",
              "      <th>1</th>\n",
              "      <td>good</td>\n",
              "      <td>0.478827</td>\n",
              "      <td>0.438347</td>\n",
              "    </tr>\n",
              "    <tr>\n",
              "      <th>2</th>\n",
              "      <td>great</td>\n",
              "      <td>0.407980</td>\n",
              "      <td>0.235772</td>\n",
              "    </tr>\n",
              "    <tr>\n",
              "      <th>3</th>\n",
              "      <td></td>\n",
              "      <td>0.246254</td>\n",
              "      <td>0.245257</td>\n",
              "    </tr>\n",
              "    <tr>\n",
              "      <th>4</th>\n",
              "      <td>like</td>\n",
              "      <td>0.271661</td>\n",
              "      <td>0.401084</td>\n",
              "    </tr>\n",
              "    <tr>\n",
              "      <th>5</th>\n",
              "      <td>love</td>\n",
              "      <td>0.261889</td>\n",
              "      <td>0.142276</td>\n",
              "    </tr>\n",
              "    <tr>\n",
              "      <th>6</th>\n",
              "      <td>come</td>\n",
              "      <td>0.241531</td>\n",
              "      <td>0.306233</td>\n",
              "    </tr>\n",
              "    <tr>\n",
              "      <th>7</th>\n",
              "      <td>austin</td>\n",
              "      <td>0.251954</td>\n",
              "      <td>0.163279</td>\n",
              "    </tr>\n",
              "    <tr>\n",
              "      <th>8</th>\n",
              "      <td>time</td>\n",
              "      <td>0.215961</td>\n",
              "      <td>0.284553</td>\n",
              "    </tr>\n",
              "    <tr>\n",
              "      <th>9</th>\n",
              "      <td>drink</td>\n",
              "      <td>0.205375</td>\n",
              "      <td>0.245257</td>\n",
              "    </tr>\n",
              "    <tr>\n",
              "      <th>10</th>\n",
              "      <td>try</td>\n",
              "      <td>0.216287</td>\n",
              "      <td>0.229675</td>\n",
              "    </tr>\n",
              "    <tr>\n",
              "      <th>11</th>\n",
              "      <td>latte</td>\n",
              "      <td>0.168078</td>\n",
              "      <td>0.155827</td>\n",
              "    </tr>\n",
              "    <tr>\n",
              "      <th>12</th>\n",
              "      <td>friendly</td>\n",
              "      <td>0.230945</td>\n",
              "      <td>0.122629</td>\n",
              "    </tr>\n",
              "    <tr>\n",
              "      <th>13</th>\n",
              "      <td>work</td>\n",
              "      <td>0.188436</td>\n",
              "      <td>0.203930</td>\n",
              "    </tr>\n",
              "    <tr>\n",
              "      <th>14</th>\n",
              "      <td>nice</td>\n",
              "      <td>0.197068</td>\n",
              "      <td>0.195799</td>\n",
              "    </tr>\n",
              "    <tr>\n",
              "      <th>15</th>\n",
              "      <td>food</td>\n",
              "      <td>0.177036</td>\n",
              "      <td>0.214092</td>\n",
              "    </tr>\n",
              "    <tr>\n",
              "      <th>16</th>\n",
              "      <td>order</td>\n",
              "      <td>0.165309</td>\n",
              "      <td>0.293360</td>\n",
              "    </tr>\n",
              "    <tr>\n",
              "      <th>17</th>\n",
              "      <td>delicious</td>\n",
              "      <td>0.191857</td>\n",
              "      <td>0.056233</td>\n",
              "    </tr>\n",
              "    <tr>\n",
              "      <th>18</th>\n",
              "      <td>little</td>\n",
              "      <td>0.168567</td>\n",
              "      <td>0.140244</td>\n",
              "    </tr>\n",
              "    <tr>\n",
              "      <th>19</th>\n",
              "      <td>tea</td>\n",
              "      <td>0.105863</td>\n",
              "      <td>0.094851</td>\n",
              "    </tr>\n",
              "  </tbody>\n",
              "</table>\n",
              "</div>"
            ],
            "text/plain": [
              "         word  appears_in_pct  appears_in_pct_bad\n",
              "0       place        0.510261            0.511518\n",
              "1        good        0.478827            0.438347\n",
              "2       great        0.407980            0.235772\n",
              "3                    0.246254            0.245257\n",
              "4        like        0.271661            0.401084\n",
              "5        love        0.261889            0.142276\n",
              "6        come        0.241531            0.306233\n",
              "7      austin        0.251954            0.163279\n",
              "8        time        0.215961            0.284553\n",
              "9       drink        0.205375            0.245257\n",
              "10        try        0.216287            0.229675\n",
              "11      latte        0.168078            0.155827\n",
              "12   friendly        0.230945            0.122629\n",
              "13       work        0.188436            0.203930\n",
              "14       nice        0.197068            0.195799\n",
              "15       food        0.177036            0.214092\n",
              "16      order        0.165309            0.293360\n",
              "17  delicious        0.191857            0.056233\n",
              "18     little        0.168567            0.140244\n",
              "19        tea        0.105863            0.094851"
            ]
          },
          "metadata": {
            "tags": []
          },
          "execution_count": 25
        }
      ]
    },
    {
      "cell_type": "code",
      "metadata": {
        "id": "VPw0_v_UVRB1",
        "colab_type": "code",
        "colab": {},
        "outputId": "7d53caff-deef-4ac4-87af-6c6d2f27f672"
      },
      "source": [
        "diff['diff'] = diff['appears_in_pct'] - diff['appears_in_pct_bad']\n",
        "diff.sort_values(by='diff').head(20)"
      ],
      "execution_count": 0,
      "outputs": [
        {
          "output_type": "execute_result",
          "data": {
            "text/html": [
              "<div>\n",
              "<style scoped>\n",
              "    .dataframe tbody tr th:only-of-type {\n",
              "        vertical-align: middle;\n",
              "    }\n",
              "\n",
              "    .dataframe tbody tr th {\n",
              "        vertical-align: top;\n",
              "    }\n",
              "\n",
              "    .dataframe thead th {\n",
              "        text-align: right;\n",
              "    }\n",
              "</style>\n",
              "<table border=\"1\" class=\"dataframe\">\n",
              "  <thead>\n",
              "    <tr style=\"text-align: right;\">\n",
              "      <th></th>\n",
              "      <th>word</th>\n",
              "      <th>appears_in_pct</th>\n",
              "      <th>appears_in_pct_bad</th>\n",
              "      <th>diff</th>\n",
              "    </tr>\n",
              "  </thead>\n",
              "  <tbody>\n",
              "    <tr>\n",
              "      <th>4</th>\n",
              "      <td>like</td>\n",
              "      <td>0.271661</td>\n",
              "      <td>0.401084</td>\n",
              "      <td>-0.129423</td>\n",
              "    </tr>\n",
              "    <tr>\n",
              "      <th>16</th>\n",
              "      <td>order</td>\n",
              "      <td>0.165309</td>\n",
              "      <td>0.293360</td>\n",
              "      <td>-0.128051</td>\n",
              "    </tr>\n",
              "    <tr>\n",
              "      <th>130</th>\n",
              "      <td>ask</td>\n",
              "      <td>0.050651</td>\n",
              "      <td>0.149051</td>\n",
              "      <td>-0.098400</td>\n",
              "    </tr>\n",
              "    <tr>\n",
              "      <th>29</th>\n",
              "      <td>service</td>\n",
              "      <td>0.140391</td>\n",
              "      <td>0.234417</td>\n",
              "      <td>-0.094026</td>\n",
              "    </tr>\n",
              "    <tr>\n",
              "      <th>198</th>\n",
              "      <td>bad</td>\n",
              "      <td>0.037785</td>\n",
              "      <td>0.128049</td>\n",
              "      <td>-0.090264</td>\n",
              "    </tr>\n",
              "    <tr>\n",
              "      <th>42</th>\n",
              "      <td>taste</td>\n",
              "      <td>0.106840</td>\n",
              "      <td>0.189024</td>\n",
              "      <td>-0.082184</td>\n",
              "    </tr>\n",
              "    <tr>\n",
              "      <th>157</th>\n",
              "      <td>customer</td>\n",
              "      <td>0.044463</td>\n",
              "      <td>0.125339</td>\n",
              "      <td>-0.080876</td>\n",
              "    </tr>\n",
              "    <tr>\n",
              "      <th>245</th>\n",
              "      <td>maybe</td>\n",
              "      <td>0.030293</td>\n",
              "      <td>0.103659</td>\n",
              "      <td>-0.073365</td>\n",
              "    </tr>\n",
              "    <tr>\n",
              "      <th>87</th>\n",
              "      <td>review</td>\n",
              "      <td>0.077850</td>\n",
              "      <td>0.151084</td>\n",
              "      <td>-0.073234</td>\n",
              "    </tr>\n",
              "    <tr>\n",
              "      <th>41</th>\n",
              "      <td>think</td>\n",
              "      <td>0.106515</td>\n",
              "      <td>0.177507</td>\n",
              "      <td>-0.070992</td>\n",
              "    </tr>\n",
              "    <tr>\n",
              "      <th>8</th>\n",
              "      <td>time</td>\n",
              "      <td>0.215961</td>\n",
              "      <td>0.284553</td>\n",
              "      <td>-0.068592</td>\n",
              "    </tr>\n",
              "    <tr>\n",
              "      <th>35</th>\n",
              "      <td>want</td>\n",
              "      <td>0.120033</td>\n",
              "      <td>0.184959</td>\n",
              "      <td>-0.064927</td>\n",
              "    </tr>\n",
              "    <tr>\n",
              "      <th>6</th>\n",
              "      <td>come</td>\n",
              "      <td>0.241531</td>\n",
              "      <td>0.306233</td>\n",
              "      <td>-0.064702</td>\n",
              "    </tr>\n",
              "    <tr>\n",
              "      <th>401</th>\n",
              "      <td>ok</td>\n",
              "      <td>0.018241</td>\n",
              "      <td>0.081978</td>\n",
              "      <td>-0.063737</td>\n",
              "    </tr>\n",
              "    <tr>\n",
              "      <th>1651</th>\n",
              "      <td>rude</td>\n",
              "      <td>0.003094</td>\n",
              "      <td>0.065041</td>\n",
              "      <td>-0.061946</td>\n",
              "    </tr>\n",
              "    <tr>\n",
              "      <th>320</th>\n",
              "      <td>pay</td>\n",
              "      <td>0.022964</td>\n",
              "      <td>0.084688</td>\n",
              "      <td>-0.061724</td>\n",
              "    </tr>\n",
              "    <tr>\n",
              "      <th>26</th>\n",
              "      <td>pretty</td>\n",
              "      <td>0.130130</td>\n",
              "      <td>0.191057</td>\n",
              "      <td>-0.060927</td>\n",
              "    </tr>\n",
              "    <tr>\n",
              "      <th>114</th>\n",
              "      <td>star</td>\n",
              "      <td>0.059283</td>\n",
              "      <td>0.119919</td>\n",
              "      <td>-0.060635</td>\n",
              "    </tr>\n",
              "    <tr>\n",
              "      <th>219</th>\n",
              "      <td>minute</td>\n",
              "      <td>0.032899</td>\n",
              "      <td>0.092818</td>\n",
              "      <td>-0.059919</td>\n",
              "    </tr>\n",
              "    <tr>\n",
              "      <th>133</th>\n",
              "      <td>experience</td>\n",
              "      <td>0.052769</td>\n",
              "      <td>0.111111</td>\n",
              "      <td>-0.058342</td>\n",
              "    </tr>\n",
              "  </tbody>\n",
              "</table>\n",
              "</div>"
            ],
            "text/plain": [
              "            word  appears_in_pct  appears_in_pct_bad      diff\n",
              "4           like        0.271661            0.401084 -0.129423\n",
              "16         order        0.165309            0.293360 -0.128051\n",
              "130          ask        0.050651            0.149051 -0.098400\n",
              "29       service        0.140391            0.234417 -0.094026\n",
              "198          bad        0.037785            0.128049 -0.090264\n",
              "42         taste        0.106840            0.189024 -0.082184\n",
              "157     customer        0.044463            0.125339 -0.080876\n",
              "245        maybe        0.030293            0.103659 -0.073365\n",
              "87        review        0.077850            0.151084 -0.073234\n",
              "41         think        0.106515            0.177507 -0.070992\n",
              "8           time        0.215961            0.284553 -0.068592\n",
              "35          want        0.120033            0.184959 -0.064927\n",
              "6           come        0.241531            0.306233 -0.064702\n",
              "401           ok        0.018241            0.081978 -0.063737\n",
              "1651        rude        0.003094            0.065041 -0.061946\n",
              "320          pay        0.022964            0.084688 -0.061724\n",
              "26        pretty        0.130130            0.191057 -0.060927\n",
              "114         star        0.059283            0.119919 -0.060635\n",
              "219       minute        0.032899            0.092818 -0.059919\n",
              "133   experience        0.052769            0.111111 -0.058342"
            ]
          },
          "metadata": {
            "tags": []
          },
          "execution_count": 26
        }
      ]
    },
    {
      "cell_type": "markdown",
      "metadata": {
        "colab_type": "text",
        "id": "1dCb1q8XphcP",
        "toc-hr-collapsed": true
      },
      "source": [
        "## Stretch Goals\n",
        "\n",
        "* Analyze another corpus of documents - such as Indeed.com job listings ;).\n",
        "* Play with the Spacy API to\n",
        " - Extract Named Entities\n",
        " - Extracting 'noun chunks'\n",
        " - Attempt Document Classification with just Spacy\n",
        " - *Note:* This [course](https://course.spacy.io/) will be of interesting in helping you with these stretch goals. \n",
        "* Try to build a plotly dash app with your text data \n",
        "\n"
      ]
    }
  ]
}